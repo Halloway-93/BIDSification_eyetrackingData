{
 "cells": [
  {
   "cell_type": "code",
   "execution_count": 1,
   "id": "3e766142",
   "metadata": {},
   "outputs": [],
   "source": [
    "import BIDSification_eyetrackingData as BIDS\n",
    "import pandas as pd"
   ]
  },
  {
   "cell_type": "markdown",
   "id": "ea6971d5",
   "metadata": {},
   "source": [
    "# The data directory to BIDSified"
   ]
  },
  {
   "cell_type": "code",
   "execution_count": 2,
   "id": "d8fe985e",
   "metadata": {},
   "outputs": [],
   "source": [
    "path_oldData = './data' # Path of the data directory to BIDSified"
   ]
  },
  {
   "cell_type": "markdown",
   "id": "4b1c6d40",
   "metadata": {},
   "source": [
    "**the directory tree:**"
   ]
  },
  {
   "cell_type": "code",
   "execution_count": 3,
   "id": "329251ea",
   "metadata": {
    "scrolled": true
   },
   "outputs": [
    {
     "name": "stdout",
     "output_type": "stream",
     "text": [
      "data/\n",
      "    LB.asc\n",
      "    OP.asc\n",
      "    AM.asc\n",
      "    LB.tsv\n",
      "    OP.tsv\n",
      "    AM.tsv\n",
      "\n"
     ]
    }
   ],
   "source": [
    "BIDS.File.dirtree(path_oldData)"
   ]
  },
  {
   "cell_type": "markdown",
   "id": "2d64a251",
   "metadata": {},
   "source": [
    "## DataFiles"
   ]
  },
  {
   "cell_type": "markdown",
   "id": "0e774c26",
   "metadata": {},
   "source": [
    "The files **OP.asc**, **LB.asc**, **AM.asc** are the raw data files from the Eyelink tracking system converted to an asc file."
   ]
  },
  {
   "cell_type": "markdown",
   "id": "82eeabc3",
   "metadata": {},
   "source": [
    "## EventsFiles"
   ]
  },
  {
   "cell_type": "markdown",
   "id": "6b17b14e",
   "metadata": {},
   "source": [
    "The files **OP.tsv**, **LB.tsv**, **AM.tsv** containing the events recorded during an experiment"
   ]
  },
  {
   "cell_type": "code",
   "execution_count": 4,
   "id": "bc0c5155",
   "metadata": {},
   "outputs": [
    {
     "data": {
      "text/html": [
       "<div>\n",
       "<style scoped>\n",
       "    .dataframe tbody tr th:only-of-type {\n",
       "        vertical-align: middle;\n",
       "    }\n",
       "\n",
       "    .dataframe tbody tr th {\n",
       "        vertical-align: top;\n",
       "    }\n",
       "\n",
       "    .dataframe thead th {\n",
       "        text-align: right;\n",
       "    }\n",
       "</style>\n",
       "<table border=\"1\" class=\"dataframe\">\n",
       "  <thead>\n",
       "    <tr style=\"text-align: right;\">\n",
       "      <th></th>\n",
       "      <th>trial</th>\n",
       "      <th>num_trial</th>\n",
       "      <th>num_block</th>\n",
       "      <th>dir_target</th>\n",
       "      <th>proba</th>\n",
       "      <th>switch</th>\n",
       "    </tr>\n",
       "  </thead>\n",
       "  <tbody>\n",
       "    <tr>\n",
       "      <th>0</th>\n",
       "      <td>1</td>\n",
       "      <td>1</td>\n",
       "      <td>1</td>\n",
       "      <td>0.0</td>\n",
       "      <td>0.647524</td>\n",
       "      <td>0.0</td>\n",
       "    </tr>\n",
       "    <tr>\n",
       "      <th>1</th>\n",
       "      <td>2</td>\n",
       "      <td>2</td>\n",
       "      <td>1</td>\n",
       "      <td>1.0</td>\n",
       "      <td>0.647524</td>\n",
       "      <td>0.0</td>\n",
       "    </tr>\n",
       "    <tr>\n",
       "      <th>2</th>\n",
       "      <td>3</td>\n",
       "      <td>3</td>\n",
       "      <td>1</td>\n",
       "      <td>1.0</td>\n",
       "      <td>0.647524</td>\n",
       "      <td>0.0</td>\n",
       "    </tr>\n",
       "    <tr>\n",
       "      <th>3</th>\n",
       "      <td>4</td>\n",
       "      <td>4</td>\n",
       "      <td>1</td>\n",
       "      <td>0.0</td>\n",
       "      <td>0.647524</td>\n",
       "      <td>0.0</td>\n",
       "    </tr>\n",
       "    <tr>\n",
       "      <th>4</th>\n",
       "      <td>5</td>\n",
       "      <td>5</td>\n",
       "      <td>1</td>\n",
       "      <td>1.0</td>\n",
       "      <td>0.647524</td>\n",
       "      <td>0.0</td>\n",
       "    </tr>\n",
       "    <tr>\n",
       "      <th>...</th>\n",
       "      <td>...</td>\n",
       "      <td>...</td>\n",
       "      <td>...</td>\n",
       "      <td>...</td>\n",
       "      <td>...</td>\n",
       "      <td>...</td>\n",
       "    </tr>\n",
       "    <tr>\n",
       "      <th>595</th>\n",
       "      <td>596</td>\n",
       "      <td>196</td>\n",
       "      <td>3</td>\n",
       "      <td>0.0</td>\n",
       "      <td>0.035278</td>\n",
       "      <td>0.0</td>\n",
       "    </tr>\n",
       "    <tr>\n",
       "      <th>596</th>\n",
       "      <td>597</td>\n",
       "      <td>197</td>\n",
       "      <td>3</td>\n",
       "      <td>0.0</td>\n",
       "      <td>0.035278</td>\n",
       "      <td>0.0</td>\n",
       "    </tr>\n",
       "    <tr>\n",
       "      <th>597</th>\n",
       "      <td>598</td>\n",
       "      <td>198</td>\n",
       "      <td>3</td>\n",
       "      <td>0.0</td>\n",
       "      <td>0.035278</td>\n",
       "      <td>0.0</td>\n",
       "    </tr>\n",
       "    <tr>\n",
       "      <th>598</th>\n",
       "      <td>599</td>\n",
       "      <td>199</td>\n",
       "      <td>3</td>\n",
       "      <td>0.0</td>\n",
       "      <td>0.035278</td>\n",
       "      <td>0.0</td>\n",
       "    </tr>\n",
       "    <tr>\n",
       "      <th>599</th>\n",
       "      <td>600</td>\n",
       "      <td>200</td>\n",
       "      <td>3</td>\n",
       "      <td>0.0</td>\n",
       "      <td>0.035278</td>\n",
       "      <td>0.0</td>\n",
       "    </tr>\n",
       "  </tbody>\n",
       "</table>\n",
       "<p>600 rows × 6 columns</p>\n",
       "</div>"
      ],
      "text/plain": [
       "     trial  num_trial  num_block  dir_target     proba  switch\n",
       "0        1          1          1         0.0  0.647524     0.0\n",
       "1        2          2          1         1.0  0.647524     0.0\n",
       "2        3          3          1         1.0  0.647524     0.0\n",
       "3        4          4          1         0.0  0.647524     0.0\n",
       "4        5          5          1         1.0  0.647524     0.0\n",
       "..     ...        ...        ...         ...       ...     ...\n",
       "595    596        196          3         0.0  0.035278     0.0\n",
       "596    597        197          3         0.0  0.035278     0.0\n",
       "597    598        198          3         0.0  0.035278     0.0\n",
       "598    599        199          3         0.0  0.035278     0.0\n",
       "599    600        200          3         0.0  0.035278     0.0\n",
       "\n",
       "[600 rows x 6 columns]"
      ]
     },
     "execution_count": 4,
     "metadata": {},
     "output_type": "execute_result"
    }
   ],
   "source": [
    "pd.read_csv('./data/OP.tsv', delimiter=' ')"
   ]
  },
  {
   "cell_type": "markdown",
   "id": "a98ee411",
   "metadata": {},
   "source": [
    "## infoFiles.tsv"
   ]
  },
  {
   "cell_type": "markdown",
   "id": "60029ead",
   "metadata": {},
   "source": [
    "**Automatic creation**"
   ]
  },
  {
   "cell_type": "code",
   "execution_count": 5,
   "id": "ebc0d339",
   "metadata": {},
   "outputs": [
    {
     "name": "stdout",
     "output_type": "stream",
     "text": [
      "The file ./data/infoFiles.tsv has just been created \n",
      "Before continuing, please check that it contains the correct information \n"
     ]
    }
   ],
   "source": [
    "process = BIDS.StandardisationProcess(dirpath=path_oldData)\n",
    "\n",
    "#------------------------------------------------------------------------------\n",
    "# Parameters\n",
    "#------------------------------------------------------------------------------\n",
    "dataformat = '.asc' # Data format\n",
    "\n",
    "#------------------------------------------------------------------------------\n",
    "# to apply the function:\n",
    "#------------------------------------------------------------------------------\n",
    "process.create_infoFiles(dataformat=dataformat)"
   ]
  },
  {
   "cell_type": "markdown",
   "id": "a0b262ff",
   "metadata": {},
   "source": [
    "**check**"
   ]
  },
  {
   "cell_type": "code",
   "execution_count": 6,
   "id": "1e9d8f78",
   "metadata": {},
   "outputs": [
    {
     "data": {
      "text/html": [
       "<div>\n",
       "<style scoped>\n",
       "    .dataframe tbody tr th:only-of-type {\n",
       "        vertical-align: middle;\n",
       "    }\n",
       "\n",
       "    .dataframe tbody tr th {\n",
       "        vertical-align: top;\n",
       "    }\n",
       "\n",
       "    .dataframe thead th {\n",
       "        text-align: right;\n",
       "    }\n",
       "</style>\n",
       "<table border=\"1\" class=\"dataframe\">\n",
       "  <thead>\n",
       "    <tr style=\"text-align: right;\">\n",
       "      <th></th>\n",
       "      <th>filename</th>\n",
       "      <th>filepath</th>\n",
       "      <th>eventsfilename</th>\n",
       "      <th>participant_id</th>\n",
       "      <th>ses</th>\n",
       "      <th>task</th>\n",
       "      <th>acq</th>\n",
       "      <th>run</th>\n",
       "    </tr>\n",
       "  </thead>\n",
       "  <tbody>\n",
       "    <tr>\n",
       "      <th>0</th>\n",
       "      <td>LB.asc</td>\n",
       "      <td>NaN</td>\n",
       "      <td>LB.tsv</td>\n",
       "      <td>1</td>\n",
       "      <td>NaN</td>\n",
       "      <td>NaN</td>\n",
       "      <td>NaN</td>\n",
       "      <td>NaN</td>\n",
       "    </tr>\n",
       "    <tr>\n",
       "      <th>1</th>\n",
       "      <td>OP.asc</td>\n",
       "      <td>NaN</td>\n",
       "      <td>OP.tsv</td>\n",
       "      <td>2</td>\n",
       "      <td>NaN</td>\n",
       "      <td>NaN</td>\n",
       "      <td>NaN</td>\n",
       "      <td>NaN</td>\n",
       "    </tr>\n",
       "    <tr>\n",
       "      <th>2</th>\n",
       "      <td>AM.asc</td>\n",
       "      <td>NaN</td>\n",
       "      <td>AM.tsv</td>\n",
       "      <td>3</td>\n",
       "      <td>NaN</td>\n",
       "      <td>NaN</td>\n",
       "      <td>NaN</td>\n",
       "      <td>NaN</td>\n",
       "    </tr>\n",
       "  </tbody>\n",
       "</table>\n",
       "</div>"
      ],
      "text/plain": [
       "  filename  filepath eventsfilename  participant_id  ses  task  acq  run\n",
       "0   LB.asc       NaN         LB.tsv               1  NaN   NaN  NaN  NaN\n",
       "1   OP.asc       NaN         OP.tsv               2  NaN   NaN  NaN  NaN\n",
       "2   AM.asc       NaN         AM.tsv               3  NaN   NaN  NaN  NaN"
      ]
     },
     "execution_count": 6,
     "metadata": {},
     "output_type": "execute_result"
    }
   ],
   "source": [
    "infoFiles = pd.read_csv('./data/infoFiles.tsv', delimiter=' ')\n",
    "\n",
    "infoFiles"
   ]
  },
  {
   "cell_type": "markdown",
   "id": "71538027",
   "metadata": {},
   "source": [
    "**Modification**"
   ]
  },
  {
   "cell_type": "code",
   "execution_count": 7,
   "id": "9d69ecb1",
   "metadata": {
    "scrolled": true
   },
   "outputs": [
    {
     "data": {
      "text/html": [
       "<div>\n",
       "<style scoped>\n",
       "    .dataframe tbody tr th:only-of-type {\n",
       "        vertical-align: middle;\n",
       "    }\n",
       "\n",
       "    .dataframe tbody tr th {\n",
       "        vertical-align: top;\n",
       "    }\n",
       "\n",
       "    .dataframe thead th {\n",
       "        text-align: right;\n",
       "    }\n",
       "</style>\n",
       "<table border=\"1\" class=\"dataframe\">\n",
       "  <thead>\n",
       "    <tr style=\"text-align: right;\">\n",
       "      <th></th>\n",
       "      <th>filename</th>\n",
       "      <th>filepath</th>\n",
       "      <th>eventsfilename</th>\n",
       "      <th>participant_id</th>\n",
       "      <th>ses</th>\n",
       "      <th>task</th>\n",
       "      <th>acq</th>\n",
       "      <th>run</th>\n",
       "      <th>time</th>\n",
       "      <th>GUID</th>\n",
       "    </tr>\n",
       "  </thead>\n",
       "  <tbody>\n",
       "    <tr>\n",
       "      <th>0</th>\n",
       "      <td>LB.asc</td>\n",
       "      <td>NaN</td>\n",
       "      <td>LB.tsv</td>\n",
       "      <td>002</td>\n",
       "      <td>001</td>\n",
       "      <td>NaN</td>\n",
       "      <td>NaN</td>\n",
       "      <td>NaN</td>\n",
       "      <td>2017-09-20_151043</td>\n",
       "      <td>5b2ee5b9-549b-4624-88b9-897295f3e5a0 2017-09-2...</td>\n",
       "    </tr>\n",
       "    <tr>\n",
       "      <th>1</th>\n",
       "      <td>OP.asc</td>\n",
       "      <td>NaN</td>\n",
       "      <td>OP.tsv</td>\n",
       "      <td>001</td>\n",
       "      <td>NaN</td>\n",
       "      <td>NaN</td>\n",
       "      <td>NaN</td>\n",
       "      <td>NaN</td>\n",
       "      <td>2017-10-26_121823</td>\n",
       "      <td>3aabe8bb-b5dd-4934-aeaa-cda1e0026609 2017-10-2...</td>\n",
       "    </tr>\n",
       "    <tr>\n",
       "      <th>2</th>\n",
       "      <td>AM.asc</td>\n",
       "      <td>NaN</td>\n",
       "      <td>AM.tsv</td>\n",
       "      <td>002</td>\n",
       "      <td>002</td>\n",
       "      <td>NaN</td>\n",
       "      <td>NaN</td>\n",
       "      <td>NaN</td>\n",
       "      <td>2017-10-23_100057</td>\n",
       "      <td>5b2ee5b9-549b-4624-88b9-897295f3e5a0 2017-09-2...</td>\n",
       "    </tr>\n",
       "  </tbody>\n",
       "</table>\n",
       "</div>"
      ],
      "text/plain": [
       "  filename  filepath eventsfilename participant_id  ses  task  acq  run  \\\n",
       "0   LB.asc       NaN         LB.tsv            002  001   NaN  NaN  NaN   \n",
       "1   OP.asc       NaN         OP.tsv            001  NaN   NaN  NaN  NaN   \n",
       "2   AM.asc       NaN         AM.tsv            002  002   NaN  NaN  NaN   \n",
       "\n",
       "                time                                               GUID  \n",
       "0  2017-09-20_151043  5b2ee5b9-549b-4624-88b9-897295f3e5a0 2017-09-2...  \n",
       "1  2017-10-26_121823  3aabe8bb-b5dd-4934-aeaa-cda1e0026609 2017-10-2...  \n",
       "2  2017-10-23_100057  5b2ee5b9-549b-4624-88b9-897295f3e5a0 2017-09-2...  "
      ]
     },
     "execution_count": 7,
     "metadata": {},
     "output_type": "execute_result"
    }
   ],
   "source": [
    "# modification participant_id\n",
    "infoFiles.loc[infoFiles.filename=='OP.asc', 'participant_id'] = '1'.zfill(3)\n",
    "infoFiles.loc[infoFiles.filename=='LB.asc', 'participant_id'] = '2'.zfill(3)\n",
    "infoFiles.loc[infoFiles.filename=='AM.asc', 'participant_id'] = '2'.zfill(3)\n",
    "\n",
    "# modification ses\n",
    "infoFiles.loc[infoFiles.filename=='LB.asc', 'ses'] = '1'.zfill(3)\n",
    "infoFiles.loc[infoFiles.filename=='AM.asc', 'ses'] = '2'.zfill(3)\n",
    "\n",
    "\n",
    "# modification time\n",
    "infoFiles.loc[infoFiles.filename=='OP.asc', 'time'] = '2017-10-26_121823'\n",
    "infoFiles.loc[infoFiles.filename=='LB.asc', 'time'] = '2017-09-20_151043'\n",
    "infoFiles.loc[infoFiles.filename=='AM.asc', 'time'] = '2017-10-23_100057'\n",
    "\n",
    "# modification GUID\n",
    "infoFiles.loc[infoFiles.participant_id=='001', 'GUID'] = '3aabe8bb-b5dd-4934-aeaa-cda1e0026609 2017-10-26_121823'\n",
    "infoFiles.loc[infoFiles.participant_id=='002', 'GUID'] = '5b2ee5b9-549b-4624-88b9-897295f3e5a0 2017-09-20_151043'\n",
    "\n",
    "infoFiles"
   ]
  },
  {
   "cell_type": "markdown",
   "id": "c49b4208",
   "metadata": {},
   "source": [
    "**save**"
   ]
  },
  {
   "cell_type": "code",
   "execution_count": 8,
   "id": "30f8896c",
   "metadata": {},
   "outputs": [],
   "source": [
    "infoFiles.to_csv('./data/infoFiles.tsv', sep=' ', index=None)"
   ]
  },
  {
   "cell_type": "markdown",
   "id": "350d9770",
   "metadata": {},
   "source": [
    "## dataset_description.json"
   ]
  },
  {
   "cell_type": "markdown",
   "id": "d0e0df72",
   "metadata": {},
   "source": [
    "**Automatic creation**"
   ]
  },
  {
   "cell_type": "code",
   "execution_count": 9,
   "id": "e29bad21",
   "metadata": {},
   "outputs": [
    {
     "name": "stdout",
     "output_type": "stream",
     "text": [
      "The file ./data/dataset_description.json has just been created \n",
      "Before continuing, please complete it with the correct information \n"
     ]
    }
   ],
   "source": [
    "process = BIDS.StandardisationProcess(dirpath=path_oldData)\n",
    "\n",
    "#------------------------------------------------------------------------------\n",
    "# to apply the function:\n",
    "#------------------------------------------------------------------------------\n",
    "process.create_dataset_description()"
   ]
  },
  {
   "cell_type": "markdown",
   "id": "97f5a93f",
   "metadata": {},
   "source": [
    "**check**"
   ]
  },
  {
   "cell_type": "code",
   "execution_count": 10,
   "id": "ecbecdfd",
   "metadata": {
    "scrolled": true
   },
   "outputs": [
    {
     "data": {
      "text/html": [
       "<div>\n",
       "<style scoped>\n",
       "    .dataframe tbody tr th:only-of-type {\n",
       "        vertical-align: middle;\n",
       "    }\n",
       "\n",
       "    .dataframe tbody tr th {\n",
       "        vertical-align: top;\n",
       "    }\n",
       "\n",
       "    .dataframe thead th {\n",
       "        text-align: right;\n",
       "    }\n",
       "</style>\n",
       "<table border=\"1\" class=\"dataframe\">\n",
       "  <thead>\n",
       "    <tr style=\"text-align: right;\">\n",
       "      <th></th>\n",
       "      <th>Name</th>\n",
       "      <th>BIDSVersion</th>\n",
       "    </tr>\n",
       "  </thead>\n",
       "  <tbody>\n",
       "    <tr>\n",
       "      <th>0</th>\n",
       "      <td>None</td>\n",
       "      <td>1.8.1</td>\n",
       "    </tr>\n",
       "  </tbody>\n",
       "</table>\n",
       "</div>"
      ],
      "text/plain": [
       "   Name BIDSVersion\n",
       "0  None       1.8.1"
      ]
     },
     "execution_count": 10,
     "metadata": {},
     "output_type": "execute_result"
    }
   ],
   "source": [
    "dataset_description = pd.read_json('./data/dataset_description.json', orient='index').T\n",
    "\n",
    "dataset_description"
   ]
  },
  {
   "cell_type": "markdown",
   "id": "5d428ee2",
   "metadata": {},
   "source": [
    "**Modification**"
   ]
  },
  {
   "cell_type": "code",
   "execution_count": 11,
   "id": "602a1d39",
   "metadata": {},
   "outputs": [
    {
     "data": {
      "text/html": [
       "<div>\n",
       "<style scoped>\n",
       "    .dataframe tbody tr th:only-of-type {\n",
       "        vertical-align: middle;\n",
       "    }\n",
       "\n",
       "    .dataframe tbody tr th {\n",
       "        vertical-align: top;\n",
       "    }\n",
       "\n",
       "    .dataframe thead th {\n",
       "        text-align: right;\n",
       "    }\n",
       "</style>\n",
       "<table border=\"1\" class=\"dataframe\">\n",
       "  <thead>\n",
       "    <tr style=\"text-align: right;\">\n",
       "      <th></th>\n",
       "      <th>Name</th>\n",
       "      <th>BIDSVersion</th>\n",
       "    </tr>\n",
       "  </thead>\n",
       "  <tbody>\n",
       "    <tr>\n",
       "      <th>0</th>\n",
       "      <td>Name of Dataset</td>\n",
       "      <td>1.8.1</td>\n",
       "    </tr>\n",
       "  </tbody>\n",
       "</table>\n",
       "</div>"
      ],
      "text/plain": [
       "              Name BIDSVersion\n",
       "0  Name of Dataset       1.8.1"
      ]
     },
     "execution_count": 11,
     "metadata": {},
     "output_type": "execute_result"
    }
   ],
   "source": [
    "dataset_description.Name = \"Name of Dataset\"\n",
    "\n",
    "dataset_description"
   ]
  },
  {
   "cell_type": "markdown",
   "id": "67e7018e",
   "metadata": {},
   "source": [
    "**save**"
   ]
  },
  {
   "cell_type": "code",
   "execution_count": 12,
   "id": "e1df4714",
   "metadata": {},
   "outputs": [],
   "source": [
    "dataset_description.T[0].to_json('./data/dataset_description.json', index='index', indent=4)"
   ]
  },
  {
   "cell_type": "markdown",
   "id": "0778bfcd",
   "metadata": {},
   "source": [
    "## settings.json"
   ]
  },
  {
   "cell_type": "markdown",
   "id": "f4b2ef5d",
   "metadata": {},
   "source": [
    "**Automatic creation**"
   ]
  },
  {
   "cell_type": "code",
   "execution_count": 13,
   "id": "c5a88e3e",
   "metadata": {},
   "outputs": [
    {
     "name": "stdout",
     "output_type": "stream",
     "text": [
      "The file ./data/settings.json has just been created \n",
      "Before continuing, please complete it with the correct information \n"
     ]
    }
   ],
   "source": [
    "process = BIDS.StandardisationProcess(dirpath=path_oldData)\n",
    "\n",
    "#------------------------------------------------------------------------------\n",
    "# to apply the function:\n",
    "#------------------------------------------------------------------------------\n",
    "process.create_settingsFile()"
   ]
  },
  {
   "cell_type": "markdown",
   "id": "b5b79607",
   "metadata": {},
   "source": [
    "**check**"
   ]
  },
  {
   "cell_type": "code",
   "execution_count": 14,
   "id": "b365f55d",
   "metadata": {
    "scrolled": true
   },
   "outputs": [
    {
     "data": {
      "text/html": [
       "<div>\n",
       "<style scoped>\n",
       "    .dataframe tbody tr th:only-of-type {\n",
       "        vertical-align: middle;\n",
       "    }\n",
       "\n",
       "    .dataframe tbody tr th {\n",
       "        vertical-align: top;\n",
       "    }\n",
       "\n",
       "    .dataframe thead th {\n",
       "        text-align: right;\n",
       "    }\n",
       "</style>\n",
       "<table border=\"1\" class=\"dataframe\">\n",
       "  <thead>\n",
       "    <tr style=\"text-align: right;\">\n",
       "      <th></th>\n",
       "      <th>TaskName</th>\n",
       "      <th>Manufacturer</th>\n",
       "      <th>ManufacturersModelName</th>\n",
       "      <th>SoftwareVersion</th>\n",
       "      <th>DeviceSerialNumber</th>\n",
       "      <th>SamplingFrequency</th>\n",
       "      <th>SampleCoordinateUnit</th>\n",
       "      <th>SampleCoordinateSystem</th>\n",
       "      <th>EnvironmentCoordinates</th>\n",
       "      <th>ScreenSize</th>\n",
       "      <th>...</th>\n",
       "      <th>RecordedEye</th>\n",
       "      <th>EyeCameraSettings</th>\n",
       "      <th>FeatureDetectionSettings</th>\n",
       "      <th>GazeMappingSettings</th>\n",
       "      <th>RawDataFilters</th>\n",
       "      <th>ScreenRefreshRate</th>\n",
       "      <th>ScreenAOIDefinition</th>\n",
       "      <th>PupilFitMethod</th>\n",
       "      <th>StartTime</th>\n",
       "      <th>StopTime</th>\n",
       "    </tr>\n",
       "  </thead>\n",
       "  <tbody>\n",
       "    <tr>\n",
       "      <th>0</th>\n",
       "      <td>NaN</td>\n",
       "      <td>NaN</td>\n",
       "      <td>NaN</td>\n",
       "      <td>NaN</td>\n",
       "      <td>NaN</td>\n",
       "      <td>NaN</td>\n",
       "      <td>NaN</td>\n",
       "      <td>NaN</td>\n",
       "      <td>NaN</td>\n",
       "      <td>NaN</td>\n",
       "      <td>...</td>\n",
       "      <td>NaN</td>\n",
       "      <td>NaN</td>\n",
       "      <td>NaN</td>\n",
       "      <td>NaN</td>\n",
       "      <td>NaN</td>\n",
       "      <td>NaN</td>\n",
       "      <td>NaN</td>\n",
       "      <td>NaN</td>\n",
       "      <td>NaN</td>\n",
       "      <td>NaN</td>\n",
       "    </tr>\n",
       "  </tbody>\n",
       "</table>\n",
       "<p>1 rows × 31 columns</p>\n",
       "</div>"
      ],
      "text/plain": [
       "   TaskName  Manufacturer  ManufacturersModelName  SoftwareVersion  \\\n",
       "0       NaN           NaN                     NaN              NaN   \n",
       "\n",
       "   DeviceSerialNumber  SamplingFrequency  SampleCoordinateUnit  \\\n",
       "0                 NaN                NaN                   NaN   \n",
       "\n",
       "   SampleCoordinateSystem  EnvironmentCoordinates  ScreenSize  ...  \\\n",
       "0                     NaN                     NaN         NaN  ...   \n",
       "\n",
       "   RecordedEye  EyeCameraSettings  FeatureDetectionSettings  \\\n",
       "0          NaN                NaN                       NaN   \n",
       "\n",
       "   GazeMappingSettings  RawDataFilters  ScreenRefreshRate  \\\n",
       "0                  NaN             NaN                NaN   \n",
       "\n",
       "   ScreenAOIDefinition  PupilFitMethod  StartTime  StopTime  \n",
       "0                  NaN             NaN        NaN       NaN  \n",
       "\n",
       "[1 rows x 31 columns]"
      ]
     },
     "execution_count": 14,
     "metadata": {},
     "output_type": "execute_result"
    }
   ],
   "source": [
    "settings = pd.read_json('./data/settings.json', orient='index').T\n",
    "\n",
    "settings"
   ]
  },
  {
   "cell_type": "markdown",
   "id": "990caab3",
   "metadata": {},
   "source": [
    "**Modification**"
   ]
  },
  {
   "cell_type": "code",
   "execution_count": 15,
   "id": "d25068d4",
   "metadata": {},
   "outputs": [
    {
     "data": {
      "text/html": [
       "<div>\n",
       "<style scoped>\n",
       "    .dataframe tbody tr th:only-of-type {\n",
       "        vertical-align: middle;\n",
       "    }\n",
       "\n",
       "    .dataframe tbody tr th {\n",
       "        vertical-align: top;\n",
       "    }\n",
       "\n",
       "    .dataframe thead th {\n",
       "        text-align: right;\n",
       "    }\n",
       "</style>\n",
       "<table border=\"1\" class=\"dataframe\">\n",
       "  <thead>\n",
       "    <tr style=\"text-align: right;\">\n",
       "      <th></th>\n",
       "      <th>TaskName</th>\n",
       "      <th>Manufacturer</th>\n",
       "      <th>ManufacturersModelName</th>\n",
       "      <th>SoftwareVersion</th>\n",
       "      <th>DeviceSerialNumber</th>\n",
       "      <th>SamplingFrequency</th>\n",
       "      <th>SampleCoordinateUnit</th>\n",
       "      <th>SampleCoordinateSystem</th>\n",
       "      <th>EnvironmentCoordinates</th>\n",
       "      <th>ScreenSize</th>\n",
       "      <th>...</th>\n",
       "      <th>GazeMappingSettings</th>\n",
       "      <th>RawDataFilters</th>\n",
       "      <th>ScreenRefreshRate</th>\n",
       "      <th>ScreenAOIDefinition</th>\n",
       "      <th>PupilFitMethod</th>\n",
       "      <th>StartTime</th>\n",
       "      <th>StopTime</th>\n",
       "      <th>add_new_key</th>\n",
       "      <th>velocity_target</th>\n",
       "      <th>color_target</th>\n",
       "    </tr>\n",
       "  </thead>\n",
       "  <tbody>\n",
       "    <tr>\n",
       "      <th>0</th>\n",
       "      <td>SuperTache</td>\n",
       "      <td>NaN</td>\n",
       "      <td>NaN</td>\n",
       "      <td>NaN</td>\n",
       "      <td>NaN</td>\n",
       "      <td>NaN</td>\n",
       "      <td>NaN</td>\n",
       "      <td>NaN</td>\n",
       "      <td>top-left</td>\n",
       "      <td>[37, 29.5]</td>\n",
       "      <td>...</td>\n",
       "      <td>NaN</td>\n",
       "      <td>NaN</td>\n",
       "      <td>60</td>\n",
       "      <td>NaN</td>\n",
       "      <td>NaN</td>\n",
       "      <td>NaN</td>\n",
       "      <td>NaN</td>\n",
       "      <td>new key added that is specific to the task</td>\n",
       "      <td>10</td>\n",
       "      <td>black</td>\n",
       "    </tr>\n",
       "  </tbody>\n",
       "</table>\n",
       "<p>1 rows × 34 columns</p>\n",
       "</div>"
      ],
      "text/plain": [
       "     TaskName  Manufacturer  ManufacturersModelName  SoftwareVersion  \\\n",
       "0  SuperTache           NaN                     NaN              NaN   \n",
       "\n",
       "   DeviceSerialNumber  SamplingFrequency  SampleCoordinateUnit  \\\n",
       "0                 NaN                NaN                   NaN   \n",
       "\n",
       "   SampleCoordinateSystem EnvironmentCoordinates  ScreenSize  ...  \\\n",
       "0                     NaN               top-left  [37, 29.5]  ...   \n",
       "\n",
       "   GazeMappingSettings  RawDataFilters  ScreenRefreshRate  \\\n",
       "0                  NaN             NaN                 60   \n",
       "\n",
       "   ScreenAOIDefinition  PupilFitMethod  StartTime  StopTime  \\\n",
       "0                  NaN             NaN        NaN       NaN   \n",
       "\n",
       "                                  add_new_key  velocity_target  color_target  \n",
       "0  new key added that is specific to the task               10         black  \n",
       "\n",
       "[1 rows x 34 columns]"
      ]
     },
     "execution_count": 15,
     "metadata": {},
     "output_type": "execute_result"
    }
   ],
   "source": [
    "settings[\"TaskName\"] = \"SuperTache\",\n",
    "settings[\"EnvironmentCoordinates\"] = \"top-left\"\n",
    "settings[\"ScreenSize\"] = [[37, 29.5]]\n",
    "settings[\"ScreenDistance\"] = 57\n",
    "settings[\"ScreenRefreshRate\"] = 60\n",
    "settings[\"add_new_key\"] = \"new key added that is specific to the task\"\n",
    "settings[\"velocity_target\"] = 10\n",
    "settings[\"color_target\"] = \"black\"\n",
    "\n",
    "settings"
   ]
  },
  {
   "cell_type": "markdown",
   "id": "a4eb3f08",
   "metadata": {},
   "source": [
    "**save**"
   ]
  },
  {
   "cell_type": "code",
   "execution_count": 16,
   "id": "415347e7",
   "metadata": {},
   "outputs": [],
   "source": [
    "settings.T[0].to_json('./data/settings.json', index='index', indent=4)"
   ]
  },
  {
   "cell_type": "markdown",
   "id": "99b15b5d",
   "metadata": {},
   "source": [
    "## settingsEvents.json"
   ]
  },
  {
   "cell_type": "markdown",
   "id": "a44a25a1",
   "metadata": {},
   "source": [
    "**Automatic creation**"
   ]
  },
  {
   "cell_type": "code",
   "execution_count": 17,
   "id": "e6608e80",
   "metadata": {},
   "outputs": [
    {
     "name": "stdout",
     "output_type": "stream",
     "text": [
      "The file ./data/settingsEvents.json has just been created \n",
      "Before continuing, please complete it with the correct information \n"
     ]
    }
   ],
   "source": [
    "process = BIDS.StandardisationProcess(dirpath=path_oldData)\n",
    "\n",
    "#------------------------------------------------------------------------------\n",
    "# to apply the function:\n",
    "#------------------------------------------------------------------------------\n",
    "process.create_settingsEvents(infofilesname='infoFiles.tsv')"
   ]
  },
  {
   "cell_type": "markdown",
   "id": "e876c900",
   "metadata": {},
   "source": [
    "**check**"
   ]
  },
  {
   "cell_type": "code",
   "execution_count": 18,
   "id": "8a353697",
   "metadata": {},
   "outputs": [
    {
     "data": {
      "text/html": [
       "<div>\n",
       "<style scoped>\n",
       "    .dataframe tbody tr th:only-of-type {\n",
       "        vertical-align: middle;\n",
       "    }\n",
       "\n",
       "    .dataframe tbody tr th {\n",
       "        vertical-align: top;\n",
       "    }\n",
       "\n",
       "    .dataframe thead th {\n",
       "        text-align: right;\n",
       "    }\n",
       "</style>\n",
       "<table border=\"1\" class=\"dataframe\">\n",
       "  <thead>\n",
       "    <tr style=\"text-align: right;\">\n",
       "      <th></th>\n",
       "      <th>dir_target</th>\n",
       "      <th>num_block</th>\n",
       "      <th>num_trial</th>\n",
       "      <th>proba</th>\n",
       "      <th>switch</th>\n",
       "    </tr>\n",
       "  </thead>\n",
       "  <tbody>\n",
       "    <tr>\n",
       "      <th>Description</th>\n",
       "      <td></td>\n",
       "      <td></td>\n",
       "      <td></td>\n",
       "      <td></td>\n",
       "      <td></td>\n",
       "    </tr>\n",
       "  </tbody>\n",
       "</table>\n",
       "</div>"
      ],
      "text/plain": [
       "            dir_target num_block num_trial proba switch\n",
       "Description                                            "
      ]
     },
     "execution_count": 18,
     "metadata": {},
     "output_type": "execute_result"
    }
   ],
   "source": [
    "settingsEvents = pd.read_json('./data/settingsEvents.json', orient='index').T\n",
    "\n",
    "settingsEvents"
   ]
  },
  {
   "cell_type": "markdown",
   "id": "54c1c2a1",
   "metadata": {},
   "source": [
    "**Modification**"
   ]
  },
  {
   "cell_type": "code",
   "execution_count": 19,
   "id": "e51419c4",
   "metadata": {},
   "outputs": [
    {
     "data": {
      "text/html": [
       "<div>\n",
       "<style scoped>\n",
       "    .dataframe tbody tr th:only-of-type {\n",
       "        vertical-align: middle;\n",
       "    }\n",
       "\n",
       "    .dataframe tbody tr th {\n",
       "        vertical-align: top;\n",
       "    }\n",
       "\n",
       "    .dataframe thead th {\n",
       "        text-align: right;\n",
       "    }\n",
       "</style>\n",
       "<table border=\"1\" class=\"dataframe\">\n",
       "  <thead>\n",
       "    <tr style=\"text-align: right;\">\n",
       "      <th></th>\n",
       "      <th>dir_target</th>\n",
       "      <th>num_block</th>\n",
       "      <th>num_trial</th>\n",
       "      <th>proba</th>\n",
       "      <th>switch</th>\n",
       "    </tr>\n",
       "  </thead>\n",
       "  <tbody>\n",
       "    <tr>\n",
       "      <th>Description</th>\n",
       "      <td>direction of the Target</td>\n",
       "      <td>numero of block</td>\n",
       "      <td>numero of the trial</td>\n",
       "      <td>probability that the movement of the target is...</td>\n",
       "      <td>switch of the probability</td>\n",
       "    </tr>\n",
       "  </tbody>\n",
       "</table>\n",
       "</div>"
      ],
      "text/plain": [
       "                          dir_target        num_block            num_trial  \\\n",
       "Description  direction of the Target  numero of block  numero of the trial   \n",
       "\n",
       "                                                         proba  \\\n",
       "Description  probability that the movement of the target is...   \n",
       "\n",
       "                                switch  \n",
       "Description  switch of the probability  "
      ]
     },
     "execution_count": 19,
     "metadata": {},
     "output_type": "execute_result"
    }
   ],
   "source": [
    "settingsEvents[\"dir_target\"] = \"direction of the Target\"\n",
    "settingsEvents[\"num_block\"] = \"numero of block\"\n",
    "settingsEvents[\"num_trial\"] = \"numero of the trial\"\n",
    "settingsEvents[\"proba\"] = \"probability that the movement of the target is to the right\"\n",
    "settingsEvents[\"switch\"] = \"switch of the probability\"\n",
    "\n",
    "settingsEvents"
   ]
  },
  {
   "cell_type": "markdown",
   "id": "eb5a841d",
   "metadata": {},
   "source": [
    "**save**"
   ]
  },
  {
   "cell_type": "code",
   "execution_count": 20,
   "id": "7ceb7e59",
   "metadata": {},
   "outputs": [],
   "source": [
    "settingsEvents.to_json('./data/settingsEvents.json', index='index', indent=4)"
   ]
  },
  {
   "cell_type": "markdown",
   "id": "a4dd0f7b",
   "metadata": {},
   "source": [
    "# Data standardisation"
   ]
  },
  {
   "cell_type": "code",
   "execution_count": 21,
   "id": "e9a0fd81",
   "metadata": {
    "scrolled": true
   },
   "outputs": [
    {
     "name": "stdout",
     "output_type": "stream",
     "text": [
      "002\n",
      "001\n",
      "002\n"
     ]
    }
   ],
   "source": [
    "path_newData = './dataBIDS' # Path of the new BIDS data directory\n",
    "\n",
    "# Name of the file containing the information on the files to be BIDSified\n",
    "infofilesname = 'infoFiles.tsv'\n",
    "# Name of the file containing the information on the files to be BIDSified\n",
    "settingsfilename = 'settings.json'\n",
    "settingsEventsfilename = 'settingsEvents.json'\n",
    "dataset_description_filename = 'dataset_description.json'\n",
    "eyetracktype = 'Eyelink' # Name of the type of eyetackeur used\n",
    "dataformat = '.asc' # Data format\n",
    "\n",
    "# List of events to be extracted from the trials\n",
    "saved_events = {\"StimulusOn\": {\"Description\": \"appearance of the fixation point\"},\n",
    "                \"StimulusOff\": {\"Description\": \"disappearance of the fixation point\"},\n",
    "                \"TargetOn\": {\"Description\": \"appearance of the moving target\"},\n",
    "                \"TargetOff\": {\"Description\": \"disappearance of the moving target\"}}\n",
    "\n",
    "\n",
    "\n",
    "StartMessage= 'TRIALID'# Message marking the start of the trial\n",
    "EndMessage= 'TRIAL OK' # Message marking the end of the trial\n",
    "\n",
    "\n",
    "\n",
    "#------------------------------------------------------------------------------\n",
    "# to apply the function:\n",
    "#------------------------------------------------------------------------------\n",
    "BIDS.DataStandardisation(path_oldData=path_oldData,\n",
    "                         path_newData=path_newData,\n",
    "                         infofilesname=infofilesname,\n",
    "                         settingsfilename=settingsfilename,\n",
    "                         settingsEventsfilename=settingsEventsfilename,\n",
    "                         datasetdescriptionfilename=dataset_description_filename,\n",
    "                         eyetracktype=eyetracktype,\n",
    "                         dataformat=dataformat,\n",
    "                         saved_events=saved_events,\n",
    "                         StartMessage=StartMessage,\n",
    "                         EndMessage=EndMessage);"
   ]
  },
  {
   "cell_type": "code",
   "execution_count": 22,
   "id": "8289d1a4",
   "metadata": {},
   "outputs": [
    {
     "name": "stdout",
     "output_type": "stream",
     "text": [
      "dataBIDS/\n",
      "    participants.json\n",
      "    participants.tsv\n",
      "    dataset_description.json\n",
      "    sub-002/\n",
      "        ses-001/\n",
      "            eyetrack/\n",
      "                sub-002_ses-001_eyetrack.json\n",
      "                sub-002_ses-001_events.json\n",
      "                sub-002_ses-001_eyetrack.asc\n",
      "                sub-002_ses-001_eyetrack.tsv.gz\n",
      "                sub-002_ses-001_events.tsv\n",
      "        ses-002/\n",
      "            eyetrack/\n",
      "                sub-002_ses-002_events.json\n",
      "                sub-002_ses-002_eyetrack.json\n",
      "                sub-002_ses-002_eyetrack.asc\n",
      "                sub-002_ses-002_eyetrack.tsv.gz\n",
      "                sub-002_ses-002_events.tsv\n",
      "    sub-001/\n",
      "        eyetrack/\n",
      "            sub-001_eyetrack.json\n",
      "            sub-001_eyetrack.tsv.gz\n",
      "            sub-001_events.json\n",
      "            sub-001_events.tsv\n",
      "            sub-001_eyetrack.asc\n",
      "\n"
     ]
    }
   ],
   "source": [
    "BIDS.File.dirtree(path_newData)"
   ]
  }
 ],
 "metadata": {
  "kernelspec": {
   "display_name": "Python 3 (ipykernel)",
   "language": "python",
   "name": "python3"
  },
  "language_info": {
   "codemirror_mode": {
    "name": "ipython",
    "version": 3
   },
   "file_extension": ".py",
   "mimetype": "text/x-python",
   "name": "python",
   "nbconvert_exporter": "python",
   "pygments_lexer": "ipython3",
   "version": "3.10.6"
  }
 },
 "nbformat": 4,
 "nbformat_minor": 5
}
