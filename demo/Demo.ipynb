{
 "cells": [
  {
   "cell_type": "code",
   "execution_count": 1,
   "id": "3e766142",
   "metadata": {},
   "outputs": [],
   "source": [
    "import BIDSification_eyetrackingData as BIDS\n",
    "import pandas as pd"
   ]
  },
  {
   "cell_type": "code",
   "execution_count": 2,
   "id": "d8fe985e",
   "metadata": {},
   "outputs": [],
   "source": [
    "path_oldData = './data' # Path of the data directory to BIDSified"
   ]
  },
  {
   "cell_type": "markdown",
   "id": "df09aa87",
   "metadata": {},
   "source": [
    "the directory tree:"
   ]
  },
  {
   "cell_type": "code",
   "execution_count": 3,
   "id": "2bbbce2c",
   "metadata": {
    "scrolled": true
   },
   "outputs": [
    {
     "name": "stdout",
     "output_type": "stream",
     "text": [
      "data/\n",
      "    LB.asc\n",
      "    OP.asc\n",
      "    AM.asc\n",
      "    LB.tsv\n",
      "    OP.tsv\n",
      "    AM.tsv\n",
      "\n"
     ]
    }
   ],
   "source": [
    "BIDS.File.dirtree(path_oldData)"
   ]
  },
  {
   "cell_type": "markdown",
   "id": "eae70526",
   "metadata": {},
   "source": [
    "# DataFiles"
   ]
  },
  {
   "cell_type": "markdown",
   "id": "36b202df",
   "metadata": {},
   "source": [
    "The files **OP.asc**, **LB.asc**, **AM.asc** are the raw data files from the Eyelink tracking system converted to an asc file."
   ]
  },
  {
   "cell_type": "markdown",
   "id": "ce4c3029",
   "metadata": {},
   "source": [
    "# EventsFiles"
   ]
  },
  {
   "cell_type": "markdown",
   "id": "3de148a5",
   "metadata": {},
   "source": [
    "The files **OP.tsv**, **LB.tsv**, **AM.tsv** containing the events recorded during an experiment"
   ]
  },
  {
   "cell_type": "code",
   "execution_count": 4,
   "id": "183c9897",
   "metadata": {},
   "outputs": [
    {
     "data": {
      "text/html": [
       "<div>\n",
       "<style scoped>\n",
       "    .dataframe tbody tr th:only-of-type {\n",
       "        vertical-align: middle;\n",
       "    }\n",
       "\n",
       "    .dataframe tbody tr th {\n",
       "        vertical-align: top;\n",
       "    }\n",
       "\n",
       "    .dataframe thead th {\n",
       "        text-align: right;\n",
       "    }\n",
       "</style>\n",
       "<table border=\"1\" class=\"dataframe\">\n",
       "  <thead>\n",
       "    <tr style=\"text-align: right;\">\n",
       "      <th></th>\n",
       "      <th>trial</th>\n",
       "      <th>num_trial</th>\n",
       "      <th>num_block</th>\n",
       "      <th>dir_target</th>\n",
       "      <th>proba</th>\n",
       "      <th>switch</th>\n",
       "    </tr>\n",
       "  </thead>\n",
       "  <tbody>\n",
       "    <tr>\n",
       "      <th>0</th>\n",
       "      <td>1</td>\n",
       "      <td>1</td>\n",
       "      <td>1</td>\n",
       "      <td>0.0</td>\n",
       "      <td>0.647524</td>\n",
       "      <td>0.0</td>\n",
       "    </tr>\n",
       "    <tr>\n",
       "      <th>1</th>\n",
       "      <td>2</td>\n",
       "      <td>2</td>\n",
       "      <td>1</td>\n",
       "      <td>1.0</td>\n",
       "      <td>0.647524</td>\n",
       "      <td>0.0</td>\n",
       "    </tr>\n",
       "    <tr>\n",
       "      <th>2</th>\n",
       "      <td>3</td>\n",
       "      <td>3</td>\n",
       "      <td>1</td>\n",
       "      <td>1.0</td>\n",
       "      <td>0.647524</td>\n",
       "      <td>0.0</td>\n",
       "    </tr>\n",
       "    <tr>\n",
       "      <th>3</th>\n",
       "      <td>4</td>\n",
       "      <td>4</td>\n",
       "      <td>1</td>\n",
       "      <td>0.0</td>\n",
       "      <td>0.647524</td>\n",
       "      <td>0.0</td>\n",
       "    </tr>\n",
       "    <tr>\n",
       "      <th>4</th>\n",
       "      <td>5</td>\n",
       "      <td>5</td>\n",
       "      <td>1</td>\n",
       "      <td>1.0</td>\n",
       "      <td>0.647524</td>\n",
       "      <td>0.0</td>\n",
       "    </tr>\n",
       "    <tr>\n",
       "      <th>...</th>\n",
       "      <td>...</td>\n",
       "      <td>...</td>\n",
       "      <td>...</td>\n",
       "      <td>...</td>\n",
       "      <td>...</td>\n",
       "      <td>...</td>\n",
       "    </tr>\n",
       "    <tr>\n",
       "      <th>595</th>\n",
       "      <td>596</td>\n",
       "      <td>196</td>\n",
       "      <td>3</td>\n",
       "      <td>0.0</td>\n",
       "      <td>0.035278</td>\n",
       "      <td>0.0</td>\n",
       "    </tr>\n",
       "    <tr>\n",
       "      <th>596</th>\n",
       "      <td>597</td>\n",
       "      <td>197</td>\n",
       "      <td>3</td>\n",
       "      <td>0.0</td>\n",
       "      <td>0.035278</td>\n",
       "      <td>0.0</td>\n",
       "    </tr>\n",
       "    <tr>\n",
       "      <th>597</th>\n",
       "      <td>598</td>\n",
       "      <td>198</td>\n",
       "      <td>3</td>\n",
       "      <td>0.0</td>\n",
       "      <td>0.035278</td>\n",
       "      <td>0.0</td>\n",
       "    </tr>\n",
       "    <tr>\n",
       "      <th>598</th>\n",
       "      <td>599</td>\n",
       "      <td>199</td>\n",
       "      <td>3</td>\n",
       "      <td>0.0</td>\n",
       "      <td>0.035278</td>\n",
       "      <td>0.0</td>\n",
       "    </tr>\n",
       "    <tr>\n",
       "      <th>599</th>\n",
       "      <td>600</td>\n",
       "      <td>200</td>\n",
       "      <td>3</td>\n",
       "      <td>0.0</td>\n",
       "      <td>0.035278</td>\n",
       "      <td>0.0</td>\n",
       "    </tr>\n",
       "  </tbody>\n",
       "</table>\n",
       "<p>600 rows × 6 columns</p>\n",
       "</div>"
      ],
      "text/plain": [
       "     trial  num_trial  num_block  dir_target     proba  switch\n",
       "0        1          1          1         0.0  0.647524     0.0\n",
       "1        2          2          1         1.0  0.647524     0.0\n",
       "2        3          3          1         1.0  0.647524     0.0\n",
       "3        4          4          1         0.0  0.647524     0.0\n",
       "4        5          5          1         1.0  0.647524     0.0\n",
       "..     ...        ...        ...         ...       ...     ...\n",
       "595    596        196          3         0.0  0.035278     0.0\n",
       "596    597        197          3         0.0  0.035278     0.0\n",
       "597    598        198          3         0.0  0.035278     0.0\n",
       "598    599        199          3         0.0  0.035278     0.0\n",
       "599    600        200          3         0.0  0.035278     0.0\n",
       "\n",
       "[600 rows x 6 columns]"
      ]
     },
     "execution_count": 4,
     "metadata": {},
     "output_type": "execute_result"
    }
   ],
   "source": [
    "pd.read_csv('./data/OP.tsv', delimiter=' ')"
   ]
  },
  {
   "cell_type": "markdown",
   "id": "6f73c127",
   "metadata": {},
   "source": [
    "# infoFiles.tsv"
   ]
  },
  {
   "cell_type": "markdown",
   "id": "60029ead",
   "metadata": {},
   "source": [
    "## Automatic creation"
   ]
  },
  {
   "cell_type": "code",
   "execution_count": 5,
   "id": "ae36ccdd",
   "metadata": {},
   "outputs": [
    {
     "name": "stdout",
     "output_type": "stream",
     "text": [
      "The file ./data/infoFiles.tsv has just been created \n",
      "Before continuing, please check that it contains the correct information \n"
     ]
    }
   ],
   "source": [
    "process = BIDS.StandardisationProcess(dirpath=path_oldData)\n",
    "\n",
    "#------------------------------------------------------------------------------\n",
    "# Parameters\n",
    "#------------------------------------------------------------------------------\n",
    "dataformat = '.asc' # Data format\n",
    "\n",
    "#------------------------------------------------------------------------------\n",
    "# to apply the function:\n",
    "#------------------------------------------------------------------------------\n",
    "process.create_infoFiles(dataformat=dataformat)"
   ]
  },
  {
   "cell_type": "markdown",
   "id": "7236bdf2",
   "metadata": {},
   "source": [
    "## check"
   ]
  },
  {
   "cell_type": "code",
   "execution_count": 6,
   "id": "4db466a5",
   "metadata": {},
   "outputs": [],
   "source": [
    "infoFiles = pd.read_csv('./data/infoFiles.tsv', delimiter=' ')\n",
    "\n",
    "infoFiles"
   ]
  },
  {
   "cell_type": "markdown",
   "id": "fe791372",
   "metadata": {},
   "source": [
    "## Modification"
   ]
  },
  {
   "cell_type": "code",
   "execution_count": 8,
   "id": "0e8565f6",
   "metadata": {},
   "outputs": [],
   "source": [
    "# modification participant_id\n",
    "infoFiles.loc[infoFiles.filename=='OP.asc', 'participant_id'] = '1'.zfill(3)\n",
    "infoFiles.loc[infoFiles.filename=='LB.asc', 'participant_id'] = '2'.zfill(3)\n",
    "infoFiles.loc[infoFiles.filename=='AM.asc', 'participant_id'] = '2'.zfill(3)\n",
    "\n",
    "# modification ses\n",
    "infoFiles.loc[infoFiles.filename=='LB.asc', 'ses'] = '1'.zfill(3)\n",
    "infoFiles.loc[infoFiles.filename=='AM.asc', 'ses'] = '2'.zfill(3)\n",
    "\n",
    "\n",
    "# modification time\n",
    "infoFiles.loc[infoFiles.filename=='OP.asc', 'time'] = '2017-10-26_121823'\n",
    "infoFiles.loc[infoFiles.filename=='LB.asc', 'time'] = '2017-09-20_151043'\n",
    "infoFiles.loc[infoFiles.filename=='AM.asc', 'time'] = '2017-10-23_100057'\n",
    "\n",
    "# modification GUID\n",
    "infoFiles.loc[infoFiles.participant_id=='001', 'GUID'] = '3aabe8bb-b5dd-4934-aeaa-cda1e0026609 2017-10-26_121823'\n",
    "infoFiles.loc[infoFiles.participant_id=='002', 'GUID'] = '5b2ee5b9-549b-4624-88b9-897295f3e5a0 2017-09-20_151043'\n",
    "\n",
    "infoFiles"
   ]
  },
  {
   "cell_type": "markdown",
   "id": "ca0c86a6",
   "metadata": {},
   "source": [
    "## save"
   ]
  },
  {
   "cell_type": "code",
   "execution_count": 10,
   "id": "8cf939a8",
   "metadata": {},
   "outputs": [],
   "source": [
    "infoFiles.to_csv('./data/infoFiles.tsv', sep=' ', index=None)"
   ]
  },
  {
   "cell_type": "markdown",
   "id": "00dfac15",
   "metadata": {},
   "source": [
    "# dataset_description.json"
   ]
  },
  {
   "cell_type": "markdown",
   "id": "fe3371c1",
   "metadata": {},
   "source": [
    "## Automatic creation"
   ]
  },
  {
   "cell_type": "code",
   "execution_count": 11,
   "id": "232161e4",
   "metadata": {},
   "outputs": [
    {
     "name": "stdout",
     "output_type": "stream",
     "text": [
      "The file ./data/dataset_description.json has just been created \n",
      "Before continuing, please complete it with the correct information \n"
     ]
    }
   ],
   "source": [
    "process = BIDS.StandardisationProcess(dirpath=path_oldData)\n",
    "\n",
    "#------------------------------------------------------------------------------\n",
    "# to apply the function:\n",
    "#------------------------------------------------------------------------------\n",
    "process.create_dataset_description()"
   ]
  },
  {
   "cell_type": "markdown",
   "id": "d0b9ca05",
   "metadata": {},
   "source": [
    "## check"
   ]
  },
  {
   "cell_type": "code",
   "execution_count": 12,
   "id": "7aaf9a02",
   "metadata": {
    "scrolled": true
   },
   "outputs": [],
   "source": [
    "dataset_description = pd.read_json('./data/dataset_description.json', orient='index').T\n",
    "\n",
    "dataset_description"
   ]
  },
  {
   "cell_type": "markdown",
   "id": "547c8bac",
   "metadata": {},
   "source": [
    "## Modification"
   ]
  },
  {
   "cell_type": "code",
   "execution_count": 14,
   "id": "e814eb8d",
   "metadata": {},
   "outputs": [],
   "source": [
    "dataset_description.Name = \"Name of Dataset\"\n",
    "\n",
    "dataset_description"
   ]
  },
  {
   "cell_type": "markdown",
   "id": "223543c7",
   "metadata": {},
   "source": [
    "## save"
   ]
  },
  {
   "cell_type": "code",
   "execution_count": 16,
   "id": "ce9fb95b",
   "metadata": {},
   "outputs": [],
   "source": [
    "dataset_description.T[0].to_json('./data/dataset_description.json', index='index', indent=4)"
   ]
  },
  {
   "cell_type": "markdown",
   "id": "01077da7",
   "metadata": {},
   "source": [
    "# settings.json"
   ]
  },
  {
   "cell_type": "markdown",
   "id": "d8c9691a",
   "metadata": {},
   "source": [
    "## Automatic creation"
   ]
  },
  {
   "cell_type": "code",
   "execution_count": 17,
   "id": "69845372",
   "metadata": {},
   "outputs": [
    {
     "name": "stdout",
     "output_type": "stream",
     "text": [
      "The file ./data/settings.json has just been created \n",
      "Before continuing, please complete it with the correct information \n"
     ]
    }
   ],
   "source": [
    "process = BIDS.StandardisationProcess(dirpath=path_oldData)\n",
    "\n",
    "#------------------------------------------------------------------------------\n",
    "# to apply the function:\n",
    "#------------------------------------------------------------------------------\n",
    "process.create_settingsFile()"
   ]
  },
  {
   "cell_type": "markdown",
   "id": "1136aa5b",
   "metadata": {},
   "source": [
    "## check"
   ]
  },
  {
   "cell_type": "code",
   "execution_count": 18,
   "id": "18eb692e",
   "metadata": {
    "scrolled": true
   },
   "outputs": [],
   "source": [
    "settings = pd.read_json('./data/settings.json', orient='index').T\n",
    "\n",
    "settings"
   ]
  },
  {
   "cell_type": "markdown",
   "id": "5410f0cc",
   "metadata": {},
   "source": [
    "## Modification"
   ]
  },
  {
   "cell_type": "code",
   "execution_count": 20,
   "id": "0200b2c2",
   "metadata": {},
   "outputs": [
    {
     "data": {
      "text/html": [
       "<div>\n",
       "<style scoped>\n",
       "    .dataframe tbody tr th:only-of-type {\n",
       "        vertical-align: middle;\n",
       "    }\n",
       "\n",
       "    .dataframe tbody tr th {\n",
       "        vertical-align: top;\n",
       "    }\n",
       "\n",
       "    .dataframe thead th {\n",
       "        text-align: right;\n",
       "    }\n",
       "</style>\n",
       "<table border=\"1\" class=\"dataframe\">\n",
       "  <thead>\n",
       "    <tr style=\"text-align: right;\">\n",
       "      <th></th>\n",
       "      <th>TaskName</th>\n",
       "      <th>Manufacturer</th>\n",
       "      <th>ManufacturersModelName</th>\n",
       "      <th>SoftwareVersion</th>\n",
       "      <th>DeviceSerialNumber</th>\n",
       "      <th>SamplingFrequency</th>\n",
       "      <th>SampleCoordinateUnit</th>\n",
       "      <th>SampleCoordinateSystem</th>\n",
       "      <th>EnvironmentCoordinates</th>\n",
       "      <th>ScreenSize</th>\n",
       "      <th>...</th>\n",
       "      <th>GazeMappingSettings</th>\n",
       "      <th>RawDataFilters</th>\n",
       "      <th>ScreenRefreshRate</th>\n",
       "      <th>ScreenAOIDefinition</th>\n",
       "      <th>PupilFitMethod</th>\n",
       "      <th>StartTime</th>\n",
       "      <th>StopTime</th>\n",
       "      <th>add_new_key</th>\n",
       "      <th>velocity_target</th>\n",
       "      <th>color_target</th>\n",
       "    </tr>\n",
       "  </thead>\n",
       "  <tbody>\n",
       "    <tr>\n",
       "      <th>0</th>\n",
       "      <td>SuperTache</td>\n",
       "      <td>NaN</td>\n",
       "      <td>NaN</td>\n",
       "      <td>NaN</td>\n",
       "      <td>NaN</td>\n",
       "      <td>NaN</td>\n",
       "      <td>NaN</td>\n",
       "      <td>NaN</td>\n",
       "      <td>top-left</td>\n",
       "      <td>[37, 29.5]</td>\n",
       "      <td>...</td>\n",
       "      <td>NaN</td>\n",
       "      <td>NaN</td>\n",
       "      <td>60</td>\n",
       "      <td>NaN</td>\n",
       "      <td>NaN</td>\n",
       "      <td>NaN</td>\n",
       "      <td>NaN</td>\n",
       "      <td>new key added that is specific to the task</td>\n",
       "      <td>10</td>\n",
       "      <td>black</td>\n",
       "    </tr>\n",
       "  </tbody>\n",
       "</table>\n",
       "<p>1 rows × 34 columns</p>\n",
       "</div>"
      ],
      "text/plain": [
       "     TaskName  Manufacturer  ManufacturersModelName  SoftwareVersion  \\\n",
       "0  SuperTache           NaN                     NaN              NaN   \n",
       "\n",
       "   DeviceSerialNumber  SamplingFrequency  SampleCoordinateUnit  \\\n",
       "0                 NaN                NaN                   NaN   \n",
       "\n",
       "   SampleCoordinateSystem EnvironmentCoordinates  ScreenSize  ...  \\\n",
       "0                     NaN               top-left  [37, 29.5]  ...   \n",
       "\n",
       "   GazeMappingSettings  RawDataFilters  ScreenRefreshRate  \\\n",
       "0                  NaN             NaN                 60   \n",
       "\n",
       "   ScreenAOIDefinition  PupilFitMethod  StartTime  StopTime  \\\n",
       "0                  NaN             NaN        NaN       NaN   \n",
       "\n",
       "                                  add_new_key  velocity_target  color_target  \n",
       "0  new key added that is specific to the task               10         black  \n",
       "\n",
       "[1 rows x 34 columns]"
      ]
     },
     "execution_count": 20,
     "metadata": {},
     "output_type": "execute_result"
    }
   ],
   "source": [
    "settings[\"TaskName\"] = \"SuperTache\",\n",
    "settings[\"EnvironmentCoordinates\"] = \"top-left\"\n",
    "settings[\"ScreenSize\"] = [[37, 29.5]]\n",
    "settings[\"ScreenDistance\"] = 57\n",
    "settings[\"ScreenRefreshRate\"] = 60\n",
    "settings[\"add_new_key\"] = \"new key added that is specific to the task\"\n",
    "settings[\"velocity_target\"] = 10\n",
    "settings[\"color_target\"] = \"black\"\n",
    "\n",
    "settings"
   ]
  },
  {
   "cell_type": "markdown",
   "id": "27175249",
   "metadata": {},
   "source": [
    "## save"
   ]
  },
  {
   "cell_type": "code",
   "execution_count": 21,
   "id": "47d6b95b",
   "metadata": {},
   "outputs": [],
   "source": [
    "settings.T[0].to_json('./data/settings.json', index='index', indent=4)"
   ]
  },
  {
   "cell_type": "markdown",
   "id": "70ca7264",
   "metadata": {},
   "source": [
    "# settingsEvents.json"
   ]
  },
  {
   "cell_type": "markdown",
   "id": "a28d6b1d",
   "metadata": {},
   "source": [
    "## Automatic creation"
   ]
  },
  {
   "cell_type": "code",
   "execution_count": 22,
   "id": "b256c665",
   "metadata": {},
   "outputs": [
    {
     "name": "stdout",
     "output_type": "stream",
     "text": [
      "The file ./data/settingsEvents.json has just been created \n",
      "Before continuing, please complete it with the correct information \n"
     ]
    }
   ],
   "source": [
    "process = BIDS.StandardisationProcess(dirpath=path_oldData)\n",
    "\n",
    "#------------------------------------------------------------------------------\n",
    "# to apply the function:\n",
    "#------------------------------------------------------------------------------\n",
    "process.create_settingsEvents(infofilesname='infoFiles.tsv')"
   ]
  },
  {
   "cell_type": "markdown",
   "id": "e126882c",
   "metadata": {},
   "source": [
    "## check"
   ]
  },
  {
   "cell_type": "code",
   "execution_count": 23,
   "id": "9adbb51e",
   "metadata": {},
   "outputs": [
    {
     "data": {
      "text/html": [
       "<div>\n",
       "<style scoped>\n",
       "    .dataframe tbody tr th:only-of-type {\n",
       "        vertical-align: middle;\n",
       "    }\n",
       "\n",
       "    .dataframe tbody tr th {\n",
       "        vertical-align: top;\n",
       "    }\n",
       "\n",
       "    .dataframe thead th {\n",
       "        text-align: right;\n",
       "    }\n",
       "</style>\n",
       "<table border=\"1\" class=\"dataframe\">\n",
       "  <thead>\n",
       "    <tr style=\"text-align: right;\">\n",
       "      <th></th>\n",
       "      <th>dir_target</th>\n",
       "      <th>num_block</th>\n",
       "      <th>num_trial</th>\n",
       "      <th>proba</th>\n",
       "      <th>switch</th>\n",
       "    </tr>\n",
       "  </thead>\n",
       "  <tbody>\n",
       "    <tr>\n",
       "      <th>Description</th>\n",
       "      <td></td>\n",
       "      <td></td>\n",
       "      <td></td>\n",
       "      <td></td>\n",
       "      <td></td>\n",
       "    </tr>\n",
       "  </tbody>\n",
       "</table>\n",
       "</div>"
      ],
      "text/plain": [
       "            dir_target num_block num_trial proba switch\n",
       "Description                                            "
      ]
     },
     "execution_count": 23,
     "metadata": {},
     "output_type": "execute_result"
    }
   ],
   "source": [
    "settingsEvents = pd.read_json('./data/settingsEvents.json', orient='index').T\n",
    "\n",
    "settingsEvents"
   ]
  },
  {
   "cell_type": "markdown",
   "id": "c8033e58",
   "metadata": {},
   "source": [
    "## Modification"
   ]
  },
  {
   "cell_type": "code",
   "execution_count": 24,
   "id": "735e614d",
   "metadata": {},
   "outputs": [
    {
     "data": {
      "text/html": [
       "<div>\n",
       "<style scoped>\n",
       "    .dataframe tbody tr th:only-of-type {\n",
       "        vertical-align: middle;\n",
       "    }\n",
       "\n",
       "    .dataframe tbody tr th {\n",
       "        vertical-align: top;\n",
       "    }\n",
       "\n",
       "    .dataframe thead th {\n",
       "        text-align: right;\n",
       "    }\n",
       "</style>\n",
       "<table border=\"1\" class=\"dataframe\">\n",
       "  <thead>\n",
       "    <tr style=\"text-align: right;\">\n",
       "      <th></th>\n",
       "      <th>dir_target</th>\n",
       "      <th>num_block</th>\n",
       "      <th>num_trial</th>\n",
       "      <th>proba</th>\n",
       "      <th>switch</th>\n",
       "    </tr>\n",
       "  </thead>\n",
       "  <tbody>\n",
       "    <tr>\n",
       "      <th>Description</th>\n",
       "      <td>direction of the Target</td>\n",
       "      <td>numero of block</td>\n",
       "      <td>numero of the trial</td>\n",
       "      <td>probability that the movement of the target is...</td>\n",
       "      <td>switch of the probability</td>\n",
       "    </tr>\n",
       "  </tbody>\n",
       "</table>\n",
       "</div>"
      ],
      "text/plain": [
       "                          dir_target        num_block            num_trial  \\\n",
       "Description  direction of the Target  numero of block  numero of the trial   \n",
       "\n",
       "                                                         proba  \\\n",
       "Description  probability that the movement of the target is...   \n",
       "\n",
       "                                switch  \n",
       "Description  switch of the probability  "
      ]
     },
     "execution_count": 24,
     "metadata": {},
     "output_type": "execute_result"
    }
   ],
   "source": [
    "settingsEvents[\"dir_target\"] = \"direction of the Target\"\n",
    "settingsEvents[\"num_block\"] = \"numero of block\"\n",
    "settingsEvents[\"num_trial\"] = \"numero of the trial\"\n",
    "settingsEvents[\"proba\"] = \"probability that the movement of the target is to the right\"\n",
    "settingsEvents[\"switch\"] = \"switch of the probability\"\n",
    "\n",
    "settingsEvents"
   ]
  },
  {
   "cell_type": "markdown",
   "id": "340d5d0d",
   "metadata": {},
   "source": [
    "## save"
   ]
  },
  {
   "cell_type": "code",
   "execution_count": 25,
   "id": "bc0e1ef8",
   "metadata": {},
   "outputs": [],
   "source": [
    "settingsEvents.to_json('./data/settingsEvents.json', index='index', indent=4)"
   ]
  },
  {
   "cell_type": "markdown",
   "id": "40a1d225",
   "metadata": {},
   "source": [
    "# Data standardisation"
   ]
  },
  {
   "cell_type": "code",
   "execution_count": 26,
   "id": "e9a0fd81",
   "metadata": {
    "scrolled": true
   },
   "outputs": [
    {
     "name": "stdout",
     "output_type": "stream",
     "text": [
      "002\n",
      "001\n"
     ]
    },
    {
     "ename": "KeyboardInterrupt",
     "evalue": "",
     "output_type": "error",
     "traceback": [
      "\u001b[0;31m---------------------------------------------------------------------------\u001b[0m",
      "\u001b[0;31mKeyboardInterrupt\u001b[0m                         Traceback (most recent call last)",
      "Cell \u001b[0;32mIn [26], line 28\u001b[0m\n\u001b[1;32m     21\u001b[0m EndMessage\u001b[38;5;241m=\u001b[39m \u001b[38;5;124m'\u001b[39m\u001b[38;5;124mTRIAL OK\u001b[39m\u001b[38;5;124m'\u001b[39m \u001b[38;5;66;03m# Message marking the end of the trial\u001b[39;00m\n\u001b[1;32m     25\u001b[0m \u001b[38;5;66;03m#------------------------------------------------------------------------------\u001b[39;00m\n\u001b[1;32m     26\u001b[0m \u001b[38;5;66;03m# to apply the function:\u001b[39;00m\n\u001b[1;32m     27\u001b[0m \u001b[38;5;66;03m#------------------------------------------------------------------------------\u001b[39;00m\n\u001b[0;32m---> 28\u001b[0m \u001b[43mBIDS\u001b[49m\u001b[38;5;241;43m.\u001b[39;49m\u001b[43mDataStandardisation\u001b[49m\u001b[43m(\u001b[49m\u001b[43mpath_oldData\u001b[49m\u001b[38;5;241;43m=\u001b[39;49m\u001b[43mpath_oldData\u001b[49m\u001b[43m,\u001b[49m\n\u001b[1;32m     29\u001b[0m \u001b[43m                         \u001b[49m\u001b[43mpath_newData\u001b[49m\u001b[38;5;241;43m=\u001b[39;49m\u001b[43mpath_newData\u001b[49m\u001b[43m,\u001b[49m\n\u001b[1;32m     30\u001b[0m \u001b[43m                         \u001b[49m\u001b[43minfofilesname\u001b[49m\u001b[38;5;241;43m=\u001b[39;49m\u001b[43minfofilesname\u001b[49m\u001b[43m,\u001b[49m\n\u001b[1;32m     31\u001b[0m \u001b[43m                         \u001b[49m\u001b[43msettingsfilename\u001b[49m\u001b[38;5;241;43m=\u001b[39;49m\u001b[43msettingsfilename\u001b[49m\u001b[43m,\u001b[49m\n\u001b[1;32m     32\u001b[0m \u001b[43m                         \u001b[49m\u001b[43msettingsEventsfilename\u001b[49m\u001b[38;5;241;43m=\u001b[39;49m\u001b[43msettingsEventsfilename\u001b[49m\u001b[43m,\u001b[49m\n\u001b[1;32m     33\u001b[0m \u001b[43m                         \u001b[49m\u001b[43mdatasetdescriptionfilename\u001b[49m\u001b[38;5;241;43m=\u001b[39;49m\u001b[43mdataset_description_filename\u001b[49m\u001b[43m,\u001b[49m\n\u001b[1;32m     34\u001b[0m \u001b[43m                         \u001b[49m\u001b[43meyetracktype\u001b[49m\u001b[38;5;241;43m=\u001b[39;49m\u001b[43meyetracktype\u001b[49m\u001b[43m,\u001b[49m\n\u001b[1;32m     35\u001b[0m \u001b[43m                         \u001b[49m\u001b[43mdataformat\u001b[49m\u001b[38;5;241;43m=\u001b[39;49m\u001b[43mdataformat\u001b[49m\u001b[43m,\u001b[49m\n\u001b[1;32m     36\u001b[0m \u001b[43m                         \u001b[49m\u001b[43msaved_events\u001b[49m\u001b[38;5;241;43m=\u001b[39;49m\u001b[43msaved_events\u001b[49m\u001b[43m,\u001b[49m\n\u001b[1;32m     37\u001b[0m \u001b[43m                         \u001b[49m\u001b[43mStartMessage\u001b[49m\u001b[38;5;241;43m=\u001b[39;49m\u001b[43mStartMessage\u001b[49m\u001b[43m,\u001b[49m\n\u001b[1;32m     38\u001b[0m \u001b[43m                         \u001b[49m\u001b[43mEndMessage\u001b[49m\u001b[38;5;241;43m=\u001b[39;49m\u001b[43mEndMessage\u001b[49m\u001b[43m)\u001b[49m;\n",
      "File \u001b[0;32m~/Bureau/BIDSification_eyetrackingData/demo/BIDSification_eyetrackingData/DataStandardisation.py:126\u001b[0m, in \u001b[0;36mDataStandardisation.__init__\u001b[0;34m(self, path_oldData, path_newData, infofilesname, settingsfilename, settingsEventsfilename, datasetdescriptionfilename, eyetracktype, dataformat, saved_events, StartMessage, EndMessage)\u001b[0m\n\u001b[1;32m    121\u001b[0m \u001b[38;5;66;03m# FILES *_eyetrack\u001b[39;00m\n\u001b[1;32m    122\u001b[0m \u001b[38;5;66;03m#------------------------------------------------------------------\u001b[39;00m\n\u001b[1;32m    123\u001b[0m \u001b[38;5;28mself\u001b[39m\u001b[38;5;241m.\u001b[39mcreate_SettingsFile(settingsfilename\u001b[38;5;241m=\u001b[39msettingsfilename,\n\u001b[1;32m    124\u001b[0m                          infofilesname\u001b[38;5;241m=\u001b[39minfofilesname,\n\u001b[1;32m    125\u001b[0m                          list_settings\u001b[38;5;241m=\u001b[39minfos[\u001b[38;5;124m'\u001b[39m\u001b[38;5;124mfile\u001b[39m\u001b[38;5;124m'\u001b[39m], \u001b[38;5;241m*\u001b[39m\u001b[38;5;241m*\u001b[39marg)\n\u001b[0;32m--> 126\u001b[0m \u001b[38;5;28;43mself\u001b[39;49m\u001b[38;5;241;43m.\u001b[39;49m\u001b[43mcreate_DataFile\u001b[49m\u001b[43m(\u001b[49m\u001b[38;5;241;43m*\u001b[39;49m\u001b[38;5;241;43m*\u001b[39;49m\u001b[43marg\u001b[49m\u001b[43m)\u001b[49m\n\u001b[1;32m    128\u001b[0m \u001b[38;5;66;03m# FILE *_events\u001b[39;00m\n\u001b[1;32m    129\u001b[0m \u001b[38;5;66;03m#------------------------------------------------------------------\u001b[39;00m\n\u001b[1;32m    130\u001b[0m \u001b[38;5;28mself\u001b[39m\u001b[38;5;241m.\u001b[39mcreate_EventsFile(eventsfilename\u001b[38;5;241m=\u001b[39mf[\u001b[38;5;124m'\u001b[39m\u001b[38;5;124meventsfilename\u001b[39m\u001b[38;5;124m'\u001b[39m],\n\u001b[1;32m    131\u001b[0m                      settingsEventsfilename\u001b[38;5;241m=\u001b[39msettingsEventsfilename,\n\u001b[1;32m    132\u001b[0m                      \u001b[38;5;241m*\u001b[39m\u001b[38;5;241m*\u001b[39marg)\n",
      "File \u001b[0;32m~/Bureau/BIDSification_eyetrackingData/demo/BIDSification_eyetrackingData/DataStandardisation.py:305\u001b[0m, in \u001b[0;36mDataStandardisation.create_DataFile\u001b[0;34m(self, filename, filepath, new_filename, new_filepath)\u001b[0m\n\u001b[1;32m    303\u001b[0m data \u001b[38;5;241m=\u001b[39m \u001b[38;5;28mself\u001b[39m\u001b[38;5;241m.\u001b[39mprocess_ET\u001b[38;5;241m.\u001b[39mextract_data_ascFile(filename, filepath)\n\u001b[1;32m    304\u001b[0m \u001b[38;5;66;03m# save data\u001b[39;00m\n\u001b[0;32m--> 305\u001b[0m \u001b[43msave_file\u001b[49m\u001b[43m(\u001b[49m\u001b[43mdata\u001b[49m\u001b[43m,\u001b[49m\u001b[43m \u001b[49m\u001b[43mnew_filename\u001b[49m\u001b[38;5;241;43m+\u001b[39;49m\u001b[38;5;124;43m'\u001b[39;49m\u001b[38;5;124;43m.tsv.gz\u001b[39;49m\u001b[38;5;124;43m'\u001b[39;49m\u001b[43m,\u001b[49m\u001b[43m \u001b[49m\u001b[43mnew_filepath\u001b[49m\u001b[43m)\u001b[49m\n",
      "File \u001b[0;32m~/Bureau/BIDSification_eyetrackingData/demo/BIDSification_eyetrackingData/File.py:126\u001b[0m, in \u001b[0;36msave_file\u001b[0;34m(data, filename, filepath)\u001b[0m\n\u001b[1;32m    124\u001b[0m file_ \u001b[38;5;241m=\u001b[39m csv\u001b[38;5;241m.\u001b[39mDictWriter(f, fieldnames\u001b[38;5;241m=\u001b[39mdata[\u001b[38;5;241m0\u001b[39m]\u001b[38;5;241m.\u001b[39mkeys(), delimiter\u001b[38;5;241m=\u001b[39m\u001b[38;5;124m'\u001b[39m\u001b[38;5;124m \u001b[39m\u001b[38;5;124m'\u001b[39m)\n\u001b[1;32m    125\u001b[0m file_\u001b[38;5;241m.\u001b[39mwriteheader()\n\u001b[0;32m--> 126\u001b[0m \u001b[43mfile_\u001b[49m\u001b[38;5;241;43m.\u001b[39;49m\u001b[43mwriterows\u001b[49m\u001b[43m(\u001b[49m\u001b[43mdata\u001b[49m\u001b[43m)\u001b[49m\n\u001b[1;32m    128\u001b[0m f\u001b[38;5;241m.\u001b[39mclose()\n",
      "File \u001b[0;32m/usr/lib/python3.10/csv.py:157\u001b[0m, in \u001b[0;36mDictWriter.writerows\u001b[0;34m(self, rowdicts)\u001b[0m\n\u001b[1;32m    156\u001b[0m \u001b[38;5;28;01mdef\u001b[39;00m \u001b[38;5;21mwriterows\u001b[39m(\u001b[38;5;28mself\u001b[39m, rowdicts):\n\u001b[0;32m--> 157\u001b[0m     \u001b[38;5;28;01mreturn\u001b[39;00m \u001b[38;5;28;43mself\u001b[39;49m\u001b[38;5;241;43m.\u001b[39;49m\u001b[43mwriter\u001b[49m\u001b[38;5;241;43m.\u001b[39;49m\u001b[43mwriterows\u001b[49m\u001b[43m(\u001b[49m\u001b[38;5;28;43mmap\u001b[39;49m\u001b[43m(\u001b[49m\u001b[38;5;28;43mself\u001b[39;49m\u001b[38;5;241;43m.\u001b[39;49m\u001b[43m_dict_to_list\u001b[49m\u001b[43m,\u001b[49m\u001b[43m \u001b[49m\u001b[43mrowdicts\u001b[49m\u001b[43m)\u001b[49m\u001b[43m)\u001b[49m\n",
      "File \u001b[0;32m/usr/lib/python3.10/gzip.py:289\u001b[0m, in \u001b[0;36mGzipFile.write\u001b[0;34m(self, data)\u001b[0m\n\u001b[1;32m    286\u001b[0m     length \u001b[38;5;241m=\u001b[39m data\u001b[38;5;241m.\u001b[39mnbytes\n\u001b[1;32m    288\u001b[0m \u001b[38;5;28;01mif\u001b[39;00m length \u001b[38;5;241m>\u001b[39m \u001b[38;5;241m0\u001b[39m:\n\u001b[0;32m--> 289\u001b[0m     \u001b[38;5;28mself\u001b[39m\u001b[38;5;241m.\u001b[39mfileobj\u001b[38;5;241m.\u001b[39mwrite(\u001b[38;5;28;43mself\u001b[39;49m\u001b[38;5;241;43m.\u001b[39;49m\u001b[43mcompress\u001b[49m\u001b[38;5;241;43m.\u001b[39;49m\u001b[43mcompress\u001b[49m\u001b[43m(\u001b[49m\u001b[43mdata\u001b[49m\u001b[43m)\u001b[49m)\n\u001b[1;32m    290\u001b[0m     \u001b[38;5;28mself\u001b[39m\u001b[38;5;241m.\u001b[39msize \u001b[38;5;241m+\u001b[39m\u001b[38;5;241m=\u001b[39m length\n\u001b[1;32m    291\u001b[0m     \u001b[38;5;28mself\u001b[39m\u001b[38;5;241m.\u001b[39mcrc \u001b[38;5;241m=\u001b[39m zlib\u001b[38;5;241m.\u001b[39mcrc32(data, \u001b[38;5;28mself\u001b[39m\u001b[38;5;241m.\u001b[39mcrc)\n",
      "\u001b[0;31mKeyboardInterrupt\u001b[0m: "
     ]
    }
   ],
   "source": [
    "path_newData = './dataBIDS' # Path of the new BIDS data directory\n",
    "\n",
    "# Name of the file containing the information on the files to be BIDSified\n",
    "infofilesname = 'infoFiles.tsv'\n",
    "# Name of the file containing the information on the files to be BIDSified\n",
    "settingsfilename = 'settings.json'\n",
    "settingsEventsfilename = 'settingsEvents.json'\n",
    "dataset_description_filename = 'dataset_description.json'\n",
    "eyetracktype = 'Eyelink' # Name of the type of eyetackeur used\n",
    "dataformat = '.asc' # Data format\n",
    "\n",
    "# List of events to be extracted from the trials\n",
    "saved_events = {\"StimulusOn\": {\"Description\": \"appearance of the fixation point\"},\n",
    "                \"StimulusOff\": {\"Description\": \"disappearance of the fixation point\"},\n",
    "                \"TargetOn\": {\"Description\": \"appearance of the moving target\"},\n",
    "                \"TargetOff\": {\"Description\": \"disappearance of the moving target\"}}\n",
    "\n",
    "\n",
    "\n",
    "StartMessage= 'TRIALID'# Message marking the start of the trial\n",
    "EndMessage= 'TRIAL OK' # Message marking the end of the trial\n",
    "\n",
    "\n",
    "\n",
    "#------------------------------------------------------------------------------\n",
    "# to apply the function:\n",
    "#------------------------------------------------------------------------------\n",
    "BIDS.DataStandardisation(path_oldData=path_oldData,\n",
    "                         path_newData=path_newData,\n",
    "                         infofilesname=infofilesname,\n",
    "                         settingsfilename=settingsfilename,\n",
    "                         settingsEventsfilename=settingsEventsfilename,\n",
    "                         datasetdescriptionfilename=dataset_description_filename,\n",
    "                         eyetracktype=eyetracktype,\n",
    "                         dataformat=dataformat,\n",
    "                         saved_events=saved_events,\n",
    "                         StartMessage=StartMessage,\n",
    "                         EndMessage=EndMessage);"
   ]
  },
  {
   "cell_type": "code",
   "execution_count": null,
   "id": "8289d1a4",
   "metadata": {},
   "outputs": [],
   "source": [
    "BIDS.File.dirtree(path_newData)"
   ]
  }
 ],
 "metadata": {
  "kernelspec": {
   "display_name": "Python 3 (ipykernel)",
   "language": "python",
   "name": "python3"
  },
  "language_info": {
   "codemirror_mode": {
    "name": "ipython",
    "version": 3
   },
   "file_extension": ".py",
   "mimetype": "text/x-python",
   "name": "python",
   "nbconvert_exporter": "python",
   "pygments_lexer": "ipython3",
   "version": "3.10.6"
  }
 },
 "nbformat": 4,
 "nbformat_minor": 5
}
