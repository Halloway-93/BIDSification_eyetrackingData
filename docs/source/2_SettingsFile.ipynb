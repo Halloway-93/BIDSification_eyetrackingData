{
 "cells": [
  {
   "cell_type": "markdown",
   "metadata": {},
   "source": [
    "# Setting File"
   ]
  },
  {
   "cell_type": "markdown",
   "metadata": {},
   "source": [
    "Create a **JSON** file containing the general parameters of the task in the data directory to be BIDSified.\n",
    "\n",
    "For more details, we recommend that you consult the BIDS documentation specific to Eye-Tracking.\n",
    "\n",
    "```PYTHON\n",
    "{\n",
    "'TaskName': None,\n",
    "'InstitutionName': None,\n",
    "'InstitutionAddress': None,\n",
    "'Manufacturer': None,\n",
    "'ManufacturersModelName': None, # *\n",
    "'SoftwareVersion': None, # *\n",
    "'TaskDescription': None,\n",
    "'Instructions': None,\n",
    "'CogAtlasID': None,\n",
    "'CogPOID': None,\n",
    "'DeviceSerialNumber': None, # *\n",
    "'SamplingFrequency': None, # *\n",
    "'SampleCoordinateUnit': None, # *\n",
    "'SampleCoordinateSystem': None, # *\n",
    "'EnvironmentCoordinates': None,\n",
    "'ScreenSize': None,\n",
    "'ScreenResolution': None, # *\n",
    "'ScreenDistance': None,\n",
    "'IncludedEyeMovementEvents': None, # *\n",
    "'DetectionAlgorithm': None,\n",
    "'DetectionAlgorithmSettings': None,\n",
    "'StartMessage': None, # *\n",
    "'EndMessage': None, # *\n",
    "'KeyPressMessage': None,\n",
    "'CalibrationType': None, # *\n",
    "'CalibrationUnit': None,\n",
    "'CalibrationPosition': None,\n",
    "'MaximalCalibrationError': None,\n",
    "'AverageCalibrationError': None,\n",
    "'CalibrationList': None, # *\n",
    "'RecordedEye': None, # *\n",
    "'EyeCameraSettings': None, # *\n",
    "'FeatureDetectionSettings': None,\n",
    "'GazeMappingSettings': None,\n",
    "'RawDataFilters': None, # *\n",
    "'ScreenRefreshRate': None,\n",
    "'AOIDefinition': None,\n",
    "'PupilFitMethod': None # *\n",
    "}\n",
    "```\n",
    "\n",
    "**\\*** *indicates that the variable will be automatically extracted from the data if it comes from an eyelink file*"
   ]
  },
  {
   "cell_type": "markdown",
   "metadata": {},
   "source": [
    "## Automatic creation"
   ]
  },
  {
   "cell_type": "markdown",
   "metadata": {},
   "source": [
    "You have the possibility to create this file automatically with the class:"
   ]
  },
  {
   "cell_type": "raw",
   "metadata": {
    "raw_mimetype": "text/restructuredtext"
   },
   "source": [
    ".. autoclass:: BIDSification_eyetrackingData.StandardisationProcess\n",
    "   :noindex:"
   ]
  },
  {
   "cell_type": "raw",
   "metadata": {
    "raw_mimetype": "text/html"
   },
   "source": [
    "<br>"
   ]
  },
  {
   "cell_type": "markdown",
   "metadata": {},
   "source": [
    "using the function:"
   ]
  },
  {
   "cell_type": "raw",
   "metadata": {
    "raw_mimetype": "text/restructuredtext"
   },
   "source": [
    ".. autofunction:: BIDSification_eyetrackingData.StandardisationProcess::StandardisationProcess.create_settingsFile\n",
    "   :noindex:"
   ]
  },
  {
   "cell_type": "raw",
   "metadata": {
    "raw_mimetype": "text/html"
   },
   "source": [
    "<br><br>"
   ]
  },
  {
   "cell_type": "markdown",
   "metadata": {},
   "source": [
    "**exemple of code:**"
   ]
  },
  {
   "cell_type": "code",
   "execution_count": 1,
   "metadata": {},
   "outputs": [
    {
     "name": "stdout",
     "output_type": "stream",
     "text": [
      "The file ./data/settings.json has just been created\n",
      "Before continuing, please complete it with the correct information\n"
     ]
    }
   ],
   "source": [
    "import BIDSification_eyetrackingData as BIDS\n",
    "\n",
    "path_oldData = './data' # Path of the data directory to BIDSified\n",
    "process = BIDS.StandardisationProcess(dirpath=path_oldData)\n",
    "\n",
    "#------------------------------------------------------------------------------\n",
    "# to apply the function:\n",
    "#------------------------------------------------------------------------------\n",
    "process.create_settingsFile()"
   ]
  },
  {
   "cell_type": "markdown",
   "metadata": {},
   "source": [
    "## Manual creation"
   ]
  },
  {
   "cell_type": "markdown",
   "metadata": {},
   "source": [
    "You have the possibility to create this file manually:"
   ]
  },
  {
   "cell_type": "raw",
   "metadata": {
    "raw_mimetype": "text/html"
   },
   "source": [
    "<br>"
   ]
  },
  {
   "cell_type": "markdown",
   "metadata": {},
   "source": [
    "**exemple of code:**"
   ]
  },
  {
   "cell_type": "code",
   "execution_count": 2,
   "metadata": {},
   "outputs": [],
   "source": [
    "import os\n",
    "import json\n",
    "\n",
    "# Path of the data directory to BIDSified\n",
    "path_oldData = './data' \n",
    "\n",
    "# Name of the file containing the settings of the data to be BIDSified\n",
    "settingsfilenames = 'settings' \n",
    "\n",
    "\n",
    "#------------------------------------------------------------------------------\n",
    "# complete the dictionary settings as much as possible\n",
    "#------------------------------------------------------------------------------\n",
    "settings = dict()\n",
    "\n",
    "# REQUIRED\n",
    "settings['TaskName'] = 'ProbantDev'\n",
    "\n",
    "# RECOMMENDED\n",
    "settings['InstitutionName'] = 'InstitutionName'\n",
    "settings['InstitutionAddress'] = 'InstitutionAddress'\n",
    "settings['Manufacturer'] = None\n",
    "settings['ManufacturersModelName'] = None\n",
    "settings['SoftwareVersion'] = None\n",
    "settings['TaskDescription'] = 'TaskDescription'\n",
    "settings['Instructions'] = 'Instructions'\n",
    "settings['CogAtlasID'] = None\n",
    "settings['CogPOID'] = None\n",
    "settings['DeviceSerialNumber'] = None\n",
    "\n",
    "# REQUIRED\n",
    "settings['SamplingFrequency'] = None\n",
    "settings['SampleCoordinateUnit'] = None\n",
    "settings['SampleCoordinateSystem'] = None\n",
    "settings['EnvironmentCoordinates'] = 'top-left'\n",
    "settings['ScreenSize'] = [37, 29.5]\n",
    "settings['ScreenResolution'] = [1023, 767]\n",
    "settings['ScreenDistance'] = 57\n",
    "\n",
    "# RECOMMENDED\n",
    "settings['IncludedEyeMovementEvents'] = None\n",
    "settings['DetectionAlgorithm'] = None\n",
    "settings['DetectionAlgorithmSettings'] = None\n",
    "settings['StartMessage'] = None\n",
    "settings['EndMessage'] = None\n",
    "settings['KeyPressMessage'] = None\n",
    "settings['CalibrationType'] = None\n",
    "settings['CalibrationUnit'] = None\n",
    "settings['CalibrationPosition'] = None\n",
    "settings['MaximalCalibrationError'] = None\n",
    "settings['AverageCalibrationError'] = None\n",
    "settings['CalibrationList'] = None\n",
    "settings['RecordedEye'] = None\n",
    "settings['EyeCameraSettings'] = None\n",
    "settings['FeatureDetectionSettings'] = None\n",
    "settings['GazeMappingSettings'] = None\n",
    "settings['RawDataFilters'] = None\n",
    "settings['ScreenRefreshRate'] = 60\n",
    "settings['AOIDefinition'] = None\n",
    "settings['PupilFitMethod'] = None\n",
    "#------------------------------------------------------------------------------\n",
    "\n",
    "\n",
    "# Saving the settings file\n",
    "with open(os.path.join(path_oldData, settingsfilenames+'.json'), 'w') as fp:\n",
    "    json.dump(settings, fp, indent=4)"
   ]
  }
 ],
 "metadata": {
  "celltoolbar": "Raw Cell Format",
  "kernelspec": {
   "display_name": "Python 3 (ipykernel)",
   "language": "python",
   "name": "python3"
  },
  "language_info": {
   "codemirror_mode": {
    "name": "ipython",
    "version": 3
   },
   "file_extension": ".py",
   "mimetype": "text/x-python",
   "name": "python",
   "nbconvert_exporter": "python",
   "pygments_lexer": "ipython3",
   "version": "3.10.6"
  }
 },
 "nbformat": 4,
 "nbformat_minor": 4
}
