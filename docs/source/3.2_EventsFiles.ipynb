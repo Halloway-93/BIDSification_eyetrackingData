{
 "cells": [
  {
   "cell_type": "markdown",
   "metadata": {},
   "source": [
    "# EventsFiles"
   ]
  },
  {
   "cell_type": "raw",
   "metadata": {
    "raw_mimetype": "text/restructuredtext"
   },
   "source": [
    "Files containing the events recorded during an experiment (in ``.csv``, or ``.tsv``)\n",
    "\n",
    ".. warning::\n",
    "   | The data must be separated by a space\n",
    "   \n",
    ".. literalinclude:: data/AM.tsv\n",
    "   :caption: **For exemple :**\n",
    "   :language: text\n",
    "   :lines: 1-4"
   ]
  }
 ],
 "metadata": {
  "celltoolbar": "Raw Cell Format",
  "kernelspec": {
   "display_name": "Python 3 (ipykernel)",
   "language": "python",
   "name": "python3"
  },
  "language_info": {
   "codemirror_mode": {
    "name": "ipython",
    "version": 3
   },
   "file_extension": ".py",
   "mimetype": "text/x-python",
   "name": "python",
   "nbconvert_exporter": "python",
   "pygments_lexer": "ipython3",
   "version": "3.10.6"
  }
 },
 "nbformat": 4,
 "nbformat_minor": 4
}
