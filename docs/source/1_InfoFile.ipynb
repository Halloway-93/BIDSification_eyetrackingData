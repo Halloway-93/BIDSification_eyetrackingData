{
 "cells": [
  {
   "cell_type": "markdown",
   "metadata": {},
   "source": [
    "# InfoFiles"
   ]
  },
  {
   "cell_type": "markdown",
   "metadata": {},
   "source": [
    "Create a **TSV** file containing information about the data files in the data directory to be BIDSified\n",
    "\n",
    "It **MUST** contain the columns:\n",
    "\n",
    "- `filename` - *name of the data files*\n",
    "- `filepath` - *path of the data files to the directory. If they are in the main directory:* `filepath=''`\n",
    "- `participant_id` - *participant identifier*\n",
    "\n",
    "\n",
    "It **may also** contain the columns:\n",
    "\n",
    "- `eventsfilename` - *name of the tsv file associated with the data which gathers information about each trial (e.g. the colour of the target if it is different for each trial)*\n",
    "- `ses` - *Name of the Session*\n",
    "- `task` - *Name of the Task*\n",
    "- `acq` - *Name of the Aquisition*\n",
    "- `run` - *IndexRun*\n",
    "- *information about the participant (*`age`*,* `QI`*,* `laterality`*, ...)*\n",
    "- *task information if it is valid for all trials (*`Proba`*,* `speedTarget`*,* `colorTarget`*, ...)*"
   ]
  },
  {
   "cell_type": "raw",
   "metadata": {
    "raw_mimetype": "text/html"
   },
   "source": [
    "<br>"
   ]
  },
  {
   "cell_type": "markdown",
   "metadata": {},
   "source": [
    "To create this file automatically, fill in the participant_id column automatically but also check if it is complete you can use the class:"
   ]
  },
  {
   "cell_type": "raw",
   "metadata": {
    "raw_mimetype": "text/restructuredtext"
   },
   "source": [
    ".. autoclass:: BIDSification_eyetrackingData.StandardisationProcess\n",
    "   :noindex:"
   ]
  },
  {
   "cell_type": "markdown",
   "metadata": {},
   "source": [
    "## Automatic creation"
   ]
  },
  {
   "cell_type": "markdown",
   "metadata": {},
   "source": [
    "You have the possibility to create this file automatically with the function:"
   ]
  },
  {
   "cell_type": "raw",
   "metadata": {
    "raw_mimetype": "text/restructuredtext"
   },
   "source": [
    ".. autofunction:: BIDSification_eyetrackingData.StandardisationProcess::StandardisationProcess.create_infoFiles\n",
    "   :noindex:"
   ]
  },
  {
   "cell_type": "raw",
   "metadata": {
    "raw_mimetype": "text/html"
   },
   "source": [
    "<br><br>"
   ]
  },
  {
   "cell_type": "markdown",
   "metadata": {},
   "source": [
    "**example of code:**"
   ]
  },
  {
   "cell_type": "code",
   "execution_count": 1,
   "metadata": {
    "scrolled": true
   },
   "outputs": [
    {
     "name": "stdout",
     "output_type": "stream",
     "text": [
      "The file ./data/infoFiles.tsv has just been created\n",
      "Before continuing, please check that it contains the correct information\n"
     ]
    }
   ],
   "source": [
    "import BIDSification_eyetrackingData as BIDS\n",
    "\n",
    "path_oldData = './data' # Path of the data directory to BIDSified\n",
    "process = BIDS.StandardisationProcess(dirpath=path_oldData)\n",
    "\n",
    "#------------------------------------------------------------------------------\n",
    "# Parameters\n",
    "#------------------------------------------------------------------------------\n",
    "dataformat = '.asc' # Data format\n",
    "\n",
    "#------------------------------------------------------------------------------\n",
    "# to apply the function:\n",
    "#------------------------------------------------------------------------------\n",
    "process.create_infoFiles(dataformat=dataformat)"
   ]
  },
  {
   "cell_type": "markdown",
   "metadata": {},
   "source": [
    "## Completed infoFiles `participant_id` column"
   ]
  },
  {
   "cell_type": "markdown",
   "metadata": {},
   "source": [
    "If your file is already created but you have not filled in the `participant_id` column, you can do so automatically with this function:"
   ]
  },
  {
   "cell_type": "raw",
   "metadata": {
    "raw_mimetype": "text/restructuredtext"
   },
   "source": [
    ".. autofunction:: BIDSification_eyetrackingData.StandardisationProcess::StandardisationProcess.completed_infoFiles_participant_id\n",
    "   :noindex:"
   ]
  },
  {
   "cell_type": "raw",
   "metadata": {
    "raw_mimetype": "text/html"
   },
   "source": [
    "<br><br>"
   ]
  },
  {
   "cell_type": "markdown",
   "metadata": {},
   "source": [
    "**example of code:**"
   ]
  },
  {
   "cell_type": "code",
   "execution_count": 2,
   "metadata": {},
   "outputs": [
    {
     "name": "stdout",
     "output_type": "stream",
     "text": [
      "The column 'participant_id' has been added to the file ./data/infoFiles.tsv\n",
      "Before continuing, please check that it contains the correct information\n"
     ]
    }
   ],
   "source": [
    "import BIDSification_eyetrackingData as BIDS\n",
    "\n",
    "path_oldData = './data' # Path of the data directory to BIDSified\n",
    "process = BIDS.StandardisationProcess(dirpath=path_oldData)\n",
    "\n",
    "#------------------------------------------------------------------------------\n",
    "# Parameters\n",
    "#------------------------------------------------------------------------------\n",
    "# Name of the file containing the information on the files to be BIDSified\n",
    "filename = 'infoFiles.tsv'\n",
    "\n",
    "#------------------------------------------------------------------------------\n",
    "# to apply the function:\n",
    "#------------------------------------------------------------------------------\n",
    "process.completed_infoFiles_participant_id(filename=filename)"
   ]
  },
  {
   "cell_type": "markdown",
   "metadata": {},
   "source": [
    "## Check"
   ]
  },
  {
   "cell_type": "markdown",
   "metadata": {},
   "source": [
    "To check that your file contains the required columns you can use this function:"
   ]
  },
  {
   "cell_type": "raw",
   "metadata": {
    "raw_mimetype": "text/restructuredtext"
   },
   "source": [
    ".. autofunction:: BIDSification_eyetrackingData.StandardisationProcess::StandardisationProcess.check_infoFiles\n",
    "   :noindex:"
   ]
  },
  {
   "cell_type": "raw",
   "metadata": {
    "raw_mimetype": "text/html"
   },
   "source": [
    "<br><br>"
   ]
  },
  {
   "cell_type": "markdown",
   "metadata": {},
   "source": [
    "**example of code:**"
   ]
  },
  {
   "cell_type": "code",
   "execution_count": 3,
   "metadata": {},
   "outputs": [],
   "source": [
    "import BIDSification_eyetrackingData as BIDS\n",
    "\n",
    "path_oldData = './data' # Path of the data directory to BIDSified\n",
    "process = BIDS.StandardisationProcess(dirpath=path_oldData)\n",
    "\n",
    "#------------------------------------------------------------------------------\n",
    "# Parameters\n",
    "#------------------------------------------------------------------------------\n",
    "# Name of the file containing the information on the files to be BIDSified\n",
    "filename = 'infoFiles.tsv'\n",
    "dataformat = '.asc' # Data format\n",
    "\n",
    "#------------------------------------------------------------------------------\n",
    "# to apply the function:\n",
    "#------------------------------------------------------------------------------\n",
    "process.check_infoFiles(filename=filename, dataformat=dataformat)"
   ]
  }
 ],
 "metadata": {
  "celltoolbar": "Raw Cell Format",
  "kernelspec": {
   "display_name": "Python 3 (ipykernel)",
   "language": "python",
   "name": "python3"
  },
  "language_info": {
   "codemirror_mode": {
    "name": "ipython",
    "version": 3
   },
   "file_extension": ".py",
   "mimetype": "text/x-python",
   "name": "python",
   "nbconvert_exporter": "python",
   "pygments_lexer": "ipython3",
   "version": "3.10.6"
  }
 },
 "nbformat": 4,
 "nbformat_minor": 4
}
