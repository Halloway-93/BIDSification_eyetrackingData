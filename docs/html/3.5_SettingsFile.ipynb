{
 "cells": [
  {
   "cell_type": "markdown",
   "metadata": {},
   "source": [
    "# settings.json"
   ]
  },
  {
   "cell_type": "raw",
   "metadata": {
    "raw_mimetype": "text/restructuredtext"
   },
   "source": [
    "Create a **JSON** file containing the general settings for the task in the data directory to be BIDSified.\n",
    "\n",
    "For more details, we recommend that you consult the `BIDS documentation specific to Eye-Tracking <https://bids-specification--1128.org.readthedocs.build/en/1128/modality-specific-files/eye-tracking.html>`_."
   ]
  },
  {
   "cell_type": "markdown",
   "metadata": {},
   "source": [
    "## Automatic creation"
   ]
  },
  {
   "cell_type": "markdown",
   "metadata": {},
   "source": [
    "You have the possibility to create this file automatically with the function:"
   ]
  },
  {
   "cell_type": "raw",
   "metadata": {
    "raw_mimetype": "text/restructuredtext"
   },
   "source": [
    ".. autoclass:: BIDSification_eyetrackingData.StandardisationProcess\n",
    "   :noindex:\n",
    "   :members: create_settingsFile"
   ]
  },
  {
   "cell_type": "raw",
   "metadata": {
    "raw_mimetype": "text/html"
   },
   "source": [
    "<br><br>"
   ]
  },
  {
   "cell_type": "markdown",
   "metadata": {},
   "source": [
    "**exemple of code:**"
   ]
  },
  {
   "cell_type": "code",
   "execution_count": 1,
   "metadata": {},
   "outputs": [
    {
     "name": "stdout",
     "output_type": "stream",
     "text": [
      "The file ./data/settings.json has just been created \n",
      "Before continuing, please complete it with the correct information \n"
     ]
    }
   ],
   "source": [
    "import BIDSification_eyetrackingData as BIDS\n",
    "\n",
    "path_oldData = './data' # Path of the data directory to BIDSified\n",
    "process = BIDS.StandardisationProcess(dirpath=path_oldData)\n",
    "\n",
    "#------------------------------------------------------------------------------\n",
    "# to apply the function:\n",
    "#------------------------------------------------------------------------------\n",
    "process.create_settingsFile()"
   ]
  },
  {
   "cell_type": "raw",
   "metadata": {
    "raw_mimetype": "text/html"
   },
   "source": [
    "<br>"
   ]
  },
  {
   "cell_type": "raw",
   "metadata": {
    "raw_mimetype": "text/restructuredtext"
   },
   "source": [
    ".. literalinclude:: _static/data/new_settings.json\n",
    "   :caption: **This new file will look like this:**\n",
    "   :language: json"
   ]
  },
  {
   "cell_type": "raw",
   "metadata": {
    "raw_mimetype": "text/restructuredtext"
   },
   "source": [
    "For more details, we recommend that you consult the `documentation <https://bids-specification--1128.org.readthedocs.build/en/1128/modality-specific-files/eye-tracking.html#sidecar-json-document-_eyetrackjson>`_."
   ]
  },
  {
   "cell_type": "raw",
   "metadata": {
    "raw_mimetype": "text/html"
   },
   "source": [
    "<br>"
   ]
  },
  {
   "cell_type": "raw",
   "metadata": {
    "raw_mimetype": "text/restructuredtext"
   },
   "source": [
    ".. Warning::\n",
    "\n",
    "    **You must then open this file and complete it.**\n",
    "    \n",
    "    You MUST complete the following keys:\n",
    "\n",
    "        | -  **EnvironmentCoordinates**\n",
    "        | -  **ScreenSize**\n",
    "        | -  **ScreenDistance**\n",
    "        | -  **SamplingFrequency**\n",
    "        | -  **SampleCoordinateUnit**\n",
    "        | -  **SampleCoordinateSystem**\n",
    "        | -  **ScreenResolution**"
   ]
  },
  {
   "cell_type": "raw",
   "metadata": {
    "raw_mimetype": "text/restructuredtext"
   },
   "source": [
    "**If your data is an asc file from eyelink**\n",
    "\n",
    "The following keys will then be filled in **automatically**, so you do not need to fill them in:\n",
    "\n",
    "   | -  **SamplingFrequency**\n",
    "   | -  **SampleCoordinateUnit**\n",
    "   | -  **SampleCoordinateSystem**\n",
    "   | -  **ScreenResolution**\n",
    "   | -  Manufacturer\n",
    "   | -  ManufacturersModelName\n",
    "   | -  SoftwareVersion\n",
    "   | -  DeviceSerialNumber\n",
    "   | -  IncludedEyeMovementEvents\n",
    "   | -  StartMessage\n",
    "   | -  EndMessage\n",
    "   | -  CalibrationType\n",
    "   | -  CalibrationList\n",
    "   | -  RecordedEye\n",
    "   | -  EyeCameraSettings\n",
    "   | -  RawDataFilters\n",
    "   | -  PupilFitMethod\n",
    "   | -  StarTime\n",
    "   | -  StopTime\n",
    "\n",
    "you will therefore only have to complete the following keys:\n",
    "\n",
    "    | -  ``EnvironmentCoordinates``\n",
    "    | -  ``ScreenSize``\n",
    "    | -  ``ScreenDistance``"
   ]
  },
  {
   "cell_type": "raw",
   "metadata": {
    "raw_mimetype": "text/restructuredtext"
   },
   "source": [
    ".. literalinclude:: _static/data/settings.json\n",
    "   :caption: **For exemple :**\n",
    "   :language: json"
   ]
  }
 ],
 "metadata": {
  "celltoolbar": "Raw Cell Format",
  "kernelspec": {
   "display_name": "Python 3 (ipykernel)",
   "language": "python",
   "name": "python3"
  },
  "language_info": {
   "codemirror_mode": {
    "name": "ipython",
    "version": 3
   },
   "file_extension": ".py",
   "mimetype": "text/x-python",
   "name": "python",
   "nbconvert_exporter": "python",
   "pygments_lexer": "ipython3",
   "version": "3.10.6"
  }
 },
 "nbformat": 4,
 "nbformat_minor": 4
}
