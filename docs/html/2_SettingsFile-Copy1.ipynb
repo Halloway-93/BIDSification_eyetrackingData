{
 "cells": [
  {
   "cell_type": "markdown",
   "metadata": {},
   "source": [
    "# Setting File"
   ]
  },
  {
   "cell_type": "raw",
   "metadata": {
    "raw_mimetype": "text/restructuredtext"
   },
   "source": [
    ".. table::\n",
    "    :align: left\n",
    "    \n",
    "    +--------------------------------+---------------+-------------+-----------------------------------------------+\n",
    "    | Key name                       | Requirement   | Data type   | Description                                   |\n",
    "    |                                | Level         |             |                                               |\n",
    "    +================================+===============+=============+===============================================+\n",
    "    | ``TaskName``                   | **Required**  | ``string``  | Name of the task. No two tasks should have    | \n",
    "    |                                |               |             | the same name. The task label included in the |\n",
    "    |                                |               |             | file name is derived from this TaskName field |\n",
    "    |                                |               |             | by removing all non-alphanumeric              |\n",
    "    |                                |               |             | (``[a-zA-Z0-9]``) characters. For example     |\n",
    "    |                                |               |             | ``TaskName`` ``\"faces n-back\"`` will          |\n",
    "    |                                |               |             | correspond to task label ``facesnback``. A    |\n",
    "    |                                |               |             | RECOMMENDED convention is to name resting     |\n",
    "    |                                |               |             | state task using labels beginning with        |\n",
    "    |                                |               |             | ``rest``                                      |\n",
    "    +--------------------------------+---------------+-------------+-----------------------------------------------+\n",
    "    | ``InstitutionName``            | *Recommended* | ``string``  | The name of the institution in charge of the  |\n",
    "    |                                |               |             | equipment that produced the measurements      |\n",
    "    +--------------------------------+---------------+-------------+-----------------------------------------------+\n",
    "    | ``InstitutionAddress``         | *Recommended* | ``string``  | The address of the institution in charge of   |\n",
    "    |                                |               |             | the equipment that produced the measurements  |\n",
    "    +--------------------------------+---------------+-------------+-----------------------------------------------+\n",
    "    | ``Manufacturer``               | *Recommended* | ``string``  | Manufacturer of the equipment that produced   |\n",
    "    |                                |               |             | the measurements. Manufacturer of the         |\n",
    "    |                                |               |             | eye-tracking system (for example              |\n",
    "    |                                |               |             | ``\"SR-Research\"``, ``\"Tobii\"``, ``\"SMI\"``,    |\n",
    "    |                                |               |             | ``\"Gazepoint\"``, ``\"Pupil Labs\"``,            |\n",
    "    |                                |               |             | ``\"Custom built\"``, ... , ``\"Other\"``         |\n",
    "    +--------------------------------+---------------+-------------+-----------------------------------------------+\n",
    "    | ``ManufacturersModelName``     | *Recommended* | ``string``  | Manufacturer's model name of the equipment    |\n",
    "    |                                |               |             | that produced the measurements.               |\n",
    "    |                                |               |             | Manufacturer's designation of the eye-tracker |\n",
    "    |                                |               |             | model (for example ``\"Eye-link 1000\"``        |\n",
    "    +--------------------------------+---------------+-------------+-----------------------------------------------+\n",
    "    | ``SoftwareVersion``            | *Recommended* | ``string``  | Version of the software that was used to      |\n",
    "    |                                |               |             | present the stimuli                           |\n",
    "    +--------------------------------+---------------+-------------+-----------------------------------------------+\n",
    "    | ``TaskDescription``            | *Recommended* | ``string``  | Longer description of the task                |\n",
    "    +--------------------------------+---------------+-------------+-----------------------------------------------+\n",
    "    | ``Instructions``               | *Recommended* | ``string``  | Text of the instructions given to             |\n",
    "    |                                |               |             | participants before the recording. Text of    |\n",
    "    |                                |               |             | the instructions given to participants before |\n",
    "    |                                |               |             | the experiment                                |\n",
    "    +--------------------------------+---------------+-------------+-----------------------------------------------+\n",
    "    | ``CogAtlasID``                 | *Recommended* | ``string``  | `URI`_ of the corresponding                   |\n",
    "    |                                |               |             | `Cognitive Atlas`_ Task term. (for example,   |\n",
    "    |                                |               |             | `Resting State with eyes closed`_)            |\n",
    "    +--------------------------------+---------------+-------------+-----------------------------------------------+\n",
    "    | ``CogPOID``                    | *Recommended* | ``string``  | `URI`_ of the corresponding `CogPO`_ term     |\n",
    "    |                                |               |             | that describes the task (for example,         |\n",
    "    |                                |               |             | `Rest`_)                                      |\n",
    "    +--------------------------------+---------------+-------------+-----------------------------------------------+\n",
    "    | ``DeviceSerialNumber``         | *Recommended* | ``string``  | The serial number of the equipment that       |\n",
    "    |                                |               |             | produced the measurements. A pseudonym can    |\n",
    "    |                                |               |             | also be used to prevent the equipment from    |\n",
    "    |                                |               |             | being identifiable, so long as each pseudonym |\n",
    "    |                                |               |             | is unique within the dataset                  |\n",
    "    +--------------------------------+---------------+-------------+-----------------------------------------------+\n",
    "    | ``SamplingFrequency``          | **Required**  | ``number``  | Sampling frequency (in Hz) of the             |\n",
    "    |                                |               |             | corresponding data in the recording (for      |\n",
    "    |                                |               |             | example, ``1000``). If the sampling frequency |\n",
    "    |                                |               |             | change across run, sidecar JSON document must |\n",
    "    |                                |               |             | be created specifying the run number          |\n",
    "    +--------------------------------+---------------+-------------+-----------------------------------------------+\n",
    "    | ``SampleCoordinateUnit``       | **Required**  | ``string``  | Unit of individual samples (``\"pixel\"``,      |\n",
    "    |                                |               |             | ``\"mm\"`` or ``\"cm\"``)                         |\n",
    "    +--------------------------------+---------------+-------------+-----------------------------------------------+\n",
    "    | ``SampleCoordinateSystem``     | **Required**  | ``string``  | Classical screen-based eye tracking data      |\n",
    "    |                                |               |             | would be ``\"gaze-on-screen\"``, but            |\n",
    "    |                                |               |             | ``\"eye-in-head\"`` or ``\"gaze-in-world\"`` are  |\n",
    "    |                                |               |             | also possible coordinate systems (for example |\n",
    "    |                                |               |             | for virtual reality)                          |\n",
    "    +--------------------------------+---------------+-------------+-----------------------------------------------+\n",
    "    | ``EnvironmentCoordinates``     | **Required**  | ``string``  | Coordinates origin (or zero), for             |\n",
    "    |                                |               |             | gaze-on-screen coordinates, this can be for   |\n",
    "    |                                |               |             | example: ``\"top-left\"`` or ``\"center\"``. For  |\n",
    "    |                                |               |             | virtual reality this could be, amongst        |\n",
    "    |                                |               |             | others, spherical coordinates                 |\n",
    "    +--------------------------------+---------------+-------------+-----------------------------------------------+\n",
    "    | ``ScreenSize``                 | **Required**  | ``array of  | Screen size in cm (for example                |\n",
    "    |                                |               | numbers or  | ``[47.2, 29.5]`` for a screen of 47.2-length  |\n",
    "    |                                |               | string      | by 29.5-height cm), if no screen use ``n/a``  |\n",
    "    |                                |               | \"n/a\"``     |                                               |\n",
    "    +--------------------------------+---------------+-------------+-----------------------------------------------+\n",
    "    | ``ScreenResolution``           | **Required**  | ``array of  | Screen resolution in pixel (for example       |\n",
    "    |                                |               | numbers or  | ``[1920, 1200]`` for a screen of 1920-length  |\n",
    "    |                                |               | string      | by 1080-height pixels), if no screen use      |\n",
    "    |                                |               | \"n/a\"``     | ``n/a``                                       |\n",
    "    +--------------------------------+---------------+-------------+-----------------------------------------------+\n",
    "    | ``ScreenDistance``             | **Required**  | ``array of  | Screen distance in cm (e.g ``60`` for a       |\n",
    "    |                                |               | numbers or  | screen distance of 60 cm), if no screen use   |\n",
    "    |                                |               | string      | ``\"n/a\"``. For MRI, it corresponds to the     |\n",
    "    |                                |               | \"n/a\"``     | distance between the head-coil mirror to the  |\n",
    "    |                                |               |             | projection screen for example                 |\n",
    "    +--------------------------------+---------------+-------------+-----------------------------------------------+\n",
    "    | ``IncludedEyeMovementEvents``  | *Recommended* | ``object    | List of included events with message          |\n",
    "    |                                |               | of objects  | specifications. For example, if fixation      |\n",
    "    |                                |               | or string   | markers from the EyeLink are included add:    |\n",
    "    |                                |               | \"n/a\"``     | ``[[Start of fixation: “SFIX”], [End of       |\n",
    "    |                                |               |             | fixation: “EFIX”]]``. If no events are        |\n",
    "    |                                |               |             | included write ``None``                       |\n",
    "    +--------------------------------+---------------+-------------+-----------------------------------------------+\n",
    "    | ``DetectionAlgorithm``         | *Recommended* | ``string``  | Name the event detection algorithm. If a      |\n",
    "    |                                |               |             | detection algorithm is used, settings SHOULD  |\n",
    "    |                                |               |             | be present in ``DetectionAlgorithmSettings``  |\n",
    "    +--------------------------------+---------------+-------------+-----------------------------------------------+\n",
    "    | ``DetectionAlgorithmSettings`` | *Recommended* | ``object    | List of parameter settings used in the        |\n",
    "    |                                |               | of objects  | ``DetectionAlgorithm`` for eye movement       |\n",
    "    |                                |               | or string   | events                                        |\n",
    "    |                                |               | \"n/a\"``     |                                               |\n",
    "    +--------------------------------+---------------+-------------+-----------------------------------------------+\n",
    "    | ``StartMessage``               | *Recommended* | ``string``  | The message sent to the eye tracker to        |\n",
    "    |                                |               |             | indicate the start of each trial. Could be    |\n",
    "    |                                |               |             | the start of the presentation of an image,    |\n",
    "    |                                |               |             | word, video, and so on                        |\n",
    "    +--------------------------------+---------------+-------------+-----------------------------------------------+\n",
    "    | ``EndMessage``                 | *Recommended* | ``string``  | The message sent to the eye tracker to        |\n",
    "    |                                |               |             | indicate the end of each trial presentation.  |\n",
    "    |                                |               |             | Could be the end of the presentation of an    |\n",
    "    |                                |               |             | image, word, video, and so on                 |\n",
    "    +--------------------------------+---------------+-------------+-----------------------------------------------+\n",
    "    | ``KeyPressMessage``            | *Recommended* | ``string``  | When the paradigm includes pressing a key,    |\n",
    "    |                                |               |             | message identifying this should be included   |\n",
    "    |                                |               |             | to the sidecar JSON file                      |\n",
    "    +--------------------------------+---------------+-------------+-----------------------------------------------+\n",
    "    | ``CalibrationType``            | *Recommended* | ``string``  | Description of the calibration procedure. For |\n",
    "    |                                |               |             | example the ``\"H3\"`` for horizontal           |\n",
    "    |                                |               |             | calibration with 3 positions or ``\"HV9\"`` for |\n",
    "    |                                |               |             | horizontal and vertical calibration with 9    |\n",
    "    |                                |               |             | positions, or one point calibration           |\n",
    "    +--------------------------------+---------------+-------------+-----------------------------------------------+\n",
    "    | ``CalibrationUnit``            | *Recommended* | ``string``  | Unit of ``CalibrationPosition``: ``\"pixel\"``, |\n",
    "    |                                |               |             | ``\"mm\"`` or ``\"cm\"``                          |\n",
    "    +--------------------------------+---------------+-------------+-----------------------------------------------+\n",
    "    | ``CalibrationPosition``        | *Recommended* | ``array     | Provide a list of X/Y coordinates in the      |\n",
    "    |                                |               | of number`` | ``CalibrationUnit``. For example, using 5     |\n",
    "    |                                |               |             | positions calibration presented on an HD      |\n",
    "    |                                |               |             | screen, it could be ``[[960,50],[960,540],    |\n",
    "    |                                |               |             | [960,1030],[50,540],[1870,540]]``             |\n",
    "    +--------------------------------+---------------+-------------+-----------------------------------------------+\n",
    "    | ``MaximalCalibrationError``    | *Recommended* | ``number``  | Maximal calibration error in visual degree    |\n",
    "    +--------------------------------+---------------+-------------+-----------------------------------------------+\n",
    "    | ``AverageCalibrationError``    | *Recommended* | ``number``  | Average calibration error in visual degree    |\n",
    "    +--------------------------------+---------------+-------------+-----------------------------------------------+\n",
    "    | ``CalibrationList``            | *Recommended* | ``object    | List of lists including information for each  |\n",
    "    |                                |               | of object`` | calibration. This list includes the           |\n",
    "    |                                |               |             | calibration type, recorded eye, maximal       |\n",
    "    |                                |               |             | calibration error, average calibration error, |\n",
    "    |                                |               |             | and time relative to the first event of the   |\n",
    "    |                                |               |             | event file                                    |\n",
    "    +--------------------------------+---------------+-------------+-----------------------------------------------+\n",
    "    | ``RecordedEye``                | *Recommended* | ``string``  | Specification for which eye was tracked       |\n",
    "    |                                |               |             | (``\"Left\"``, ``\"Right\"``, ``\"Both\"``)         |\n",
    "    +--------------------------------+---------------+-------------+-----------------------------------------------+\n",
    "    | ``EyeCameraSettings``          | *Recommended* | ``object    | A field to store any settings that influence  |\n",
    "    |                                |               | of object`` | the resolution and quality of the eye         |\n",
    "    |                                |               |             | imagery. Autowhitebalance? Changes in         |\n",
    "    |                                |               |             | sharpness?                                    |\n",
    "    +--------------------------------+---------------+-------------+-----------------------------------------------+\n",
    "    | ``FeatureDetectionSettings``   | *Recommended* | ``object    | A place to store arbitrary information        |\n",
    "    |                                |               | of object`` | related to feature detection. For example     |\n",
    "    |                                |               |             | Minimum/maximum pupil size                    |\n",
    "    +--------------------------------+---------------+-------------+-----------------------------------------------+\n",
    "    | ``GazeMappingSettings``        | *Recommended* | ``object    | A place to store arbitrary information        |\n",
    "    |                                |               | of object`` | related to gaze mapping. For example, if      |\n",
    "    |                                |               |             | there was a threshold on pupil confidence     |\n",
    "    |                                |               |             | required for gaze mapping, one could store    |\n",
    "    |                                |               |             | that information here                         |\n",
    "    +--------------------------------+---------------+-------------+-----------------------------------------------+\n",
    "    | ``RawDataFilters``             | *Recommended* | ``string``  | Filter settings applied to eye-movement raw   |\n",
    "    |                                |               |             | data. For example Eyelink trackers typically  |\n",
    "    |                                |               |             | automatically filter the raw data             |\n",
    "    +--------------------------------+---------------+-------------+-----------------------------------------------+\n",
    "    | ``ScreenRefreshRate``          | *Recommended* | ``number``  | Refresh rate of the screen (when used), in    |\n",
    "    |                                |               |             | Hertz (for example, ``60`` for 60 Hz)         |\n",
    "    +--------------------------------+---------------+-------------+-----------------------------------------------+\n",
    "    | ``AOIDefinition``              | *Recommended* | ``object    | Define, what shape are the AOIs and what      |\n",
    "    |                                |               | of object`` | coordinates are used. ``[“square”,[“x_start”, | \n",
    "    |                                |               |             | “x_stop”, “y_start”, “y_stop”]]`` Other       |\n",
    "    |                                |               |             | options: ``“custom”/”circle”/”triangle”,      |\n",
    "    |                                |               |             | [[“x”,”y”], [“x”,”y”],[“x”,”y”],and so on.]`` |\n",
    "    +--------------------------------+---------------+-------------+-----------------------------------------------+\n",
    "    | ``PupilFitMethod``             | *Recommended* | ``string``  | The method employed for fitting the pupil:    |\n",
    "    |                                |               |             | ``\"centre-of-mass\"`` or ``\"ellipse\"``         |\n",
    "    +--------------------------------+---------------+-------------+-----------------------------------------------+\n",
    "\n",
    "\n",
    ".. _URI: https://bids-specification.readthedocs.io/en/stable/02-common-principles.html#uniform-resource-indicator\n",
    "\n",
    ".. _Cognitive Atlas: https://www.cognitiveatlas.org/\n",
    "\n",
    ".. _Resting State with eyes closed: http://www.cognitiveatlas.org/task/id/trm_54e69c642d89b)\n",
    "\n",
    ".. _CogPO: http://www.cogpo.org/\n",
    "\n",
    ".. _Rest: http://wiki.cogpo.org/index.php?title=Rest"
   ]
  },
  {
   "cell_type": "markdown",
   "metadata": {},
   "source": [
    "Create a **JSON** file containing the general parameters of the task in the data directory to be BIDSified\n",
    "\n",
    "```PYTHON\n",
    "{\n",
    "'TaskName': None,\n",
    "'InstitutionName': None,\n",
    "'InstitutionAddress': None,\n",
    "'Manufacturer': None,\n",
    "'ManufacturersModelName': None, # *\n",
    "'SoftwareVersion': None, # *\n",
    "'TaskDescription': None,\n",
    "'Instructions': None,\n",
    "'CogAtlasID': None,\n",
    "'CogPOID': None,\n",
    "'DeviceSerialNumber': None, # *\n",
    "'SamplingFrequency': None, # *\n",
    "'SampleCoordinateUnit': None, # *\n",
    "'SampleCoordinateSystem': None, # *\n",
    "'EnvironmentCoordinates': None,\n",
    "'ScreenSize': None,\n",
    "'ScreenResolution': None, # *\n",
    "'ScreenDistance': None,\n",
    "'IncludedEyeMovementEvents': None, # *\n",
    "'DetectionAlgorithm': None,\n",
    "'DetectionAlgorithmSettings': None,\n",
    "'StartMessage': None, # *\n",
    "'EndMessage': None, # *\n",
    "'KeyPressMessage': None,\n",
    "'CalibrationType': None, # *\n",
    "'CalibrationUnit': None,\n",
    "'CalibrationPosition': None,\n",
    "'MaximalCalibrationError': None,\n",
    "'AverageCalibrationError': None,\n",
    "'CalibrationList': None, # *\n",
    "'RecordedEye': None, # *\n",
    "'EyeCameraSettings': None, # *\n",
    "'FeatureDetectionSettings': None,\n",
    "'GazeMappingSettings': None,\n",
    "'RawDataFilters': None, # *\n",
    "'ScreenRefreshRate': None,\n",
    "'AOIDefinition': None,\n",
    "'PupilFitMethod': None # *\n",
    "}\n",
    "```\n",
    "\n",
    "**\\*** *indicates that the variable will be automatically extracted from the data if it comes from an eyelink file*"
   ]
  },
  {
   "cell_type": "markdown",
   "metadata": {},
   "source": [
    "## Automatic creation"
   ]
  },
  {
   "cell_type": "markdown",
   "metadata": {},
   "source": [
    "You have the possibility to create this file automatically with the class:"
   ]
  },
  {
   "cell_type": "raw",
   "metadata": {
    "raw_mimetype": "text/restructuredtext"
   },
   "source": [
    ".. autoclass:: BIDSification_eyetrackingData.StandardisationProcess\n",
    "   :noindex:"
   ]
  },
  {
   "cell_type": "raw",
   "metadata": {
    "raw_mimetype": "text/html"
   },
   "source": [
    "<br>"
   ]
  },
  {
   "cell_type": "markdown",
   "metadata": {},
   "source": [
    "using the function:"
   ]
  },
  {
   "cell_type": "raw",
   "metadata": {
    "raw_mimetype": "text/restructuredtext"
   },
   "source": [
    ".. autofunction:: BIDSification_eyetrackingData.StandardisationProcess::StandardisationProcess.create_settingsFile\n",
    "   :noindex:"
   ]
  },
  {
   "cell_type": "raw",
   "metadata": {
    "raw_mimetype": "text/html"
   },
   "source": [
    "<br><br>"
   ]
  },
  {
   "cell_type": "markdown",
   "metadata": {},
   "source": [
    "**exemple of code:**"
   ]
  },
  {
   "cell_type": "code",
   "execution_count": 1,
   "metadata": {},
   "outputs": [
    {
     "name": "stdout",
     "output_type": "stream",
     "text": [
      "The file ./data/settings.json has just been created\n",
      "Before continuing, please complete it with the correct information\n"
     ]
    }
   ],
   "source": [
    "import BIDSification_eyetrackingData as BIDS\n",
    "\n",
    "path_oldData = './data' # Path of the data directory to BIDSified\n",
    "process = BIDS.StandardisationProcess(dirpath=path_oldData)\n",
    "\n",
    "#------------------------------------------------------------------------------\n",
    "# to apply the function:\n",
    "#------------------------------------------------------------------------------\n",
    "process.create_settingsFile()"
   ]
  },
  {
   "cell_type": "markdown",
   "metadata": {},
   "source": [
    "## Manual creation"
   ]
  },
  {
   "cell_type": "markdown",
   "metadata": {},
   "source": [
    "You have the possibility to create this file manually:"
   ]
  },
  {
   "cell_type": "raw",
   "metadata": {
    "raw_mimetype": "text/html"
   },
   "source": [
    "<br><br>"
   ]
  },
  {
   "cell_type": "markdown",
   "metadata": {},
   "source": [
    "**exemple of code:**"
   ]
  },
  {
   "cell_type": "code",
   "execution_count": 2,
   "metadata": {},
   "outputs": [],
   "source": [
    "import os\n",
    "import json\n",
    "\n",
    "# Path of the data directory to BIDSified\n",
    "path_oldData = './data' \n",
    "\n",
    "# Name of the file containing the settings of the data to be BIDSified\n",
    "settingsfilenames = 'settings' \n",
    "\n",
    "\n",
    "#------------------------------------------------------------------------------\n",
    "# complete the dictionary settings as much as possible\n",
    "#------------------------------------------------------------------------------\n",
    "settings = dict()\n",
    "\n",
    "# REQUIRED\n",
    "settings['TaskName'] = 'ProbantDev'\n",
    "\n",
    "# RECOMMENDED\n",
    "settings['InstitutionName'] = 'InstitutionName'\n",
    "settings['InstitutionAddress'] = 'InstitutionAddress'\n",
    "settings['Manufacturer'] = None\n",
    "settings['ManufacturersModelName'] = None\n",
    "settings['SoftwareVersion'] = None\n",
    "settings['TaskDescription'] = 'TaskDescription'\n",
    "settings['Instructions'] = 'Instructions'\n",
    "settings['CogAtlasID'] = None\n",
    "settings['CogPOID'] = None\n",
    "settings['DeviceSerialNumber'] = None\n",
    "\n",
    "# REQUIRED\n",
    "settings['SamplingFrequency'] = None\n",
    "settings['SampleCoordinateUnit'] = None\n",
    "settings['SampleCoordinateSystem'] = None\n",
    "settings['EnvironmentCoordinates'] = 'top-left'\n",
    "settings['ScreenSize'] = [37, 29.5]\n",
    "settings['ScreenResolution'] = [1023, 767]\n",
    "settings['ScreenDistance'] = 57\n",
    "\n",
    "# RECOMMENDED\n",
    "settings['IncludedEyeMovementEvents'] = None\n",
    "settings['DetectionAlgorithm'] = None\n",
    "settings['DetectionAlgorithmSettings'] = None\n",
    "settings['StartMessage'] = None\n",
    "settings['EndMessage'] = None\n",
    "settings['KeyPressMessage'] = None\n",
    "settings['CalibrationType'] = None\n",
    "settings['CalibrationUnit'] = None\n",
    "settings['CalibrationPosition'] = None\n",
    "settings['MaximalCalibrationError'] = None\n",
    "settings['AverageCalibrationError'] = None\n",
    "settings['CalibrationList'] = None\n",
    "settings['RecordedEye'] = None\n",
    "settings['EyeCameraSettings'] = None\n",
    "settings['FeatureDetectionSettings'] = None\n",
    "settings['GazeMappingSettings'] = None\n",
    "settings['RawDataFilters'] = None\n",
    "settings['ScreenRefreshRate'] = 60\n",
    "settings['AOIDefinition'] = None\n",
    "settings['PupilFitMethod'] = None\n",
    "#------------------------------------------------------------------------------\n",
    "\n",
    "\n",
    "# Saving the settings file\n",
    "with open(os.path.join(path_oldData, settingsfilenames+'.json'), 'w') as fp:\n",
    "    json.dump(settings, fp, indent=4)"
   ]
  }
 ],
 "metadata": {
  "celltoolbar": "Raw Cell Format",
  "kernelspec": {
   "display_name": "Python 3 (ipykernel)",
   "language": "python",
   "name": "python3"
  },
  "language_info": {
   "codemirror_mode": {
    "name": "ipython",
    "version": 3
   },
   "file_extension": ".py",
   "mimetype": "text/x-python",
   "name": "python",
   "nbconvert_exporter": "python",
   "pygments_lexer": "ipython3",
   "version": "3.10.6"
  }
 },
 "nbformat": 4,
 "nbformat_minor": 4
}
