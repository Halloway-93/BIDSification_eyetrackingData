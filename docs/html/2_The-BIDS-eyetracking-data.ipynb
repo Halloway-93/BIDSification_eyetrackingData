{
 "cells": [
  {
   "cell_type": "markdown",
   "id": "5e94a396",
   "metadata": {},
   "source": [
    "# The BIDS eyetracking data"
   ]
  },
  {
   "cell_type": "raw",
   "id": "b4f44d8c",
   "metadata": {
    "raw_mimetype": "text/restructuredtext"
   },
   "source": [
    ".. admonition:: *The tree structure of this data is as follows*\n",
    "\n",
    "    | **dataset /**\n",
    "    |  \n",
    "    |  :ref:`dataset_description.json<dataset_description.json>`\n",
    "    |  :ref:`participants.tsv<participants.tsv>`\n",
    "    |  :ref:`participants.json<participants.json>`\n",
    "    |  \n",
    "    |  **sub-<label> /**\n",
    "    |   *[ses-<label> /]*\n",
    "    |    **<datatype> /**\n",
    "    |     *<filename>* :ref:`_eyetrack.tsv.gz<filename_eyetrack.tsv.gz>`\n",
    "    |     *<filename>* :ref:`_eyetrack.json<filename_eyetrack.json>`\n",
    "    |     *<filename>* :ref:`_events.tsv<filename_events.tsv>`\n",
    "    |     *<filename>* :ref:`_events.json<filename_events.json>`\n",
    "\n",
    "\n",
    "For more details on the tree structure of this data, see the `BIDS documentation <https://bids-specification--1128.org.readthedocs.build/en/1128/introduction.html>`_."
   ]
  },
  {
   "cell_type": "markdown",
   "id": "38d87aec",
   "metadata": {},
   "source": [
    "## Exemple of the BIDS eyetracking data"
   ]
  },
  {
   "cell_type": "raw",
   "id": "bd3752ce",
   "metadata": {
    "raw_mimetype": "text/restructuredtext"
   },
   "source": [
    "Here we present an example of a data tree\n",
    "\n",
    "In this example we have eye movement data from two subjects (*sub-001* and *sub-002*). |br|\n",
    "This data comes from the Eyelink tracking system. |br|\n",
    "The first subject had one session and the second had two.\n",
    "\n",
    ".. |br| raw:: html\n",
    "\n",
    "  <br/>\n",
    "\n",
    ".. admonition:: *Exemple of the BIDS eyetracking data*\n",
    "\n",
    "    | **dataBIDS /**\n",
    "    |  \n",
    "    |  :ref:`dataset_description.json<dataset_description.json>`\n",
    "    |  :ref:`participants.tsv<participants.tsv>`\n",
    "    |  :ref:`participants.json<participants.json>`\n",
    "    |  \n",
    "    |  **sub-001 /**\n",
    "    |   **eyetrack /**\n",
    "    |    :ref:`sub-001_eyetrack.asc<filename_eyetrack.asc>`\n",
    "    |    :ref:`sub-001_eyetrack.tsv.gz<filename_eyetrack.tsv.gz>`\n",
    "    |    :ref:`sub-001_eyetrack.json<filename_eyetrack.json>`\n",
    "    |    :ref:`sub-001_events.tsv<filename_events.tsv>`\n",
    "    |    :ref:`sub-001_events.json<filename_events.json>`\n",
    "    |\n",
    "    |  **sub-002 /**\n",
    "    |   **ses-001 /**\n",
    "    |    **eyetrack /**\n",
    "    |     :ref:`sub-002_ses-001_eyetrack.asc<filename_eyetrack.asc>`\n",
    "    |     :ref:`sub-002_ses-001_eyetrack.tsv.gz<filename_eyetrack.tsv.gz>`\n",
    "    |     :ref:`sub-002_ses-001_eyetrack.json<filename_eyetrack.json>`\n",
    "    |     :ref:`sub-002_ses-001_events.tsv<filename_events.tsv>`\n",
    "    |     :ref:`sub-002_ses-001_events.json<filename_events.json>`\n",
    "    |   **ses-002 /**\n",
    "    |    **eyetrack /**\n",
    "    |     :ref:`sub-002_ses-002_eyetrack.asc<filename_eyetrack.asc>`\n",
    "    |     :ref:`sub-002_ses-002_eyetrack.tsv.gz<filename_eyetrack.tsv.gz>`\n",
    "    |     :ref:`sub-002_ses-002_eyetrack.json<filename_eyetrack.json>`\n",
    "    |     :ref:`sub-002_ses-002_events.tsv<filename_events.tsv>`\n",
    "    |     :ref:`sub-002_ses-002_events.json<filename_events.json>`\n"
   ]
  },
  {
   "cell_type": "raw",
   "id": "c04195b4",
   "metadata": {
    "raw_mimetype": "text/html"
   },
   "source": [
    "<br/>"
   ]
  },
  {
   "cell_type": "markdown",
   "id": "97e35ae4",
   "metadata": {},
   "source": [
    "## Description of the files"
   ]
  },
  {
   "cell_type": "raw",
   "id": "6109de9c",
   "metadata": {
    "raw_mimetype": "text/html"
   },
   "source": [
    "<br/><br/>"
   ]
  },
  {
   "cell_type": "markdown",
   "id": "8a66a19c",
   "metadata": {},
   "source": [
    "### dataset_description.json"
   ]
  },
  {
   "cell_type": "raw",
   "id": "572e6c60",
   "metadata": {
    "raw_mimetype": "text/restructuredtext"
   },
   "source": [
    "The file ``dataset_description.json`` is a JSON file describing the dataset. |br|\n",
    "See the  `documentation <https://bids-specification--1128.org.readthedocs.build/en/1128/modality-agnostic-files.html#dataset_descriptionjson>`_ for more details.\n",
    "\n",
    ".. literalinclude:: _static/data/dataset_description.json\n",
    "   :caption: **For exemple :**\n",
    "   :language: json"
   ]
  },
  {
   "cell_type": "raw",
   "id": "fb92bac7",
   "metadata": {
    "raw_mimetype": "text/html"
   },
   "source": [
    "<br/><br/>"
   ]
  },
  {
   "cell_type": "markdown",
   "id": "3bef0d18",
   "metadata": {},
   "source": [
    "### participants.tsv"
   ]
  },
  {
   "cell_type": "raw",
   "id": "8f037c0d",
   "metadata": {
    "raw_mimetype": "text/restructuredtext"
   },
   "source": [
    "The  file ``participants.tsv`` describe the properties of the participants such as GUID, age, sex, and handedness. |br|\n",
    "See the  `documentation <https://bids-specification--1128.org.readthedocs.build/en/1128/modality-agnostic-files.html#participants-file>`_ for more details.\n",
    "\n",
    ".. literalinclude:: _static/data/participants.tsv\n",
    "   :caption: **For exemple :**\n",
    "   :language: text"
   ]
  },
  {
   "cell_type": "raw",
   "id": "eefa1c47",
   "metadata": {
    "raw_mimetype": "text/html"
   },
   "source": [
    "<br/><br/>"
   ]
  },
  {
   "cell_type": "markdown",
   "id": "9bd1d318",
   "metadata": {},
   "source": [
    "### participants.json"
   ]
  },
  {
   "cell_type": "raw",
   "id": "96c59415",
   "metadata": {
    "raw_mimetype": "text/restructuredtext"
   },
   "source": [
    "The ``participants.json`` file documents the columns present in the ``participants.tsv`` file. |br|\n",
    "See the  `documentation <https://bids-specification--1128.org.readthedocs.build/en/1128/modality-agnostic-files.html#participants-file>`_ for more details.\n",
    "\n",
    ".. literalinclude:: _static/data/participants.json\n",
    "   :caption: **For exemple :**\n",
    "   :language: json"
   ]
  },
  {
   "cell_type": "raw",
   "id": "db0b159b",
   "metadata": {
    "raw_mimetype": "text/html"
   },
   "source": [
    "<br/><br/>"
   ]
  },
  {
   "cell_type": "markdown",
   "id": "67dcfa67",
   "metadata": {},
   "source": [
    "### filename_eyetrack.asc"
   ]
  },
  {
   "cell_type": "raw",
   "id": "27b97199",
   "metadata": {
    "raw_mimetype": "text/restructuredtext"
   },
   "source": [
    "The file *<filename>* ``_eyetrack.asc`` is the raw data file from the Eyelink tracking system."
   ]
  },
  {
   "cell_type": "raw",
   "id": "10cfe62b",
   "metadata": {
    "raw_mimetype": "text/html"
   },
   "source": [
    "<br/><br/>"
   ]
  },
  {
   "cell_type": "markdown",
   "id": "53266460",
   "metadata": {},
   "source": [
    "### filename_eyetrack.tsv.gz"
   ]
  },
  {
   "cell_type": "raw",
   "id": "14dead5c",
   "metadata": {
    "raw_mimetype": "text/restructuredtext"
   },
   "source": [
    "The file *<filename>* ``_eyetrack.tsv.gz`` contains the eye-tracking data. |br|\n",
    "See the  `documentation <https://bids-specification--1128.org.readthedocs.build/en/1128/modality-specific-files/eye-tracking.html#tabular-file-_eyetracktsvgz>`_ for more details.\n",
    "\n",
    ".. literalinclude:: _static/data/filename_eyetrack.tsv\n",
    "   :caption: **For exemple :**\n",
    "   :language: text"
   ]
  },
  {
   "cell_type": "raw",
   "id": "c61c8b3c",
   "metadata": {
    "raw_mimetype": "text/html"
   },
   "source": [
    "<br/><br/>"
   ]
  },
  {
   "cell_type": "markdown",
   "id": "81036cec",
   "metadata": {},
   "source": [
    "### filename_eyetrack.json"
   ]
  },
  {
   "cell_type": "raw",
   "id": "c0004da7",
   "metadata": {
    "raw_mimetype": "text/restructuredtext"
   },
   "source": [
    "The file *<filename>* ``_eyetrack.json`` contains the details of the experiment. |br|\n",
    "See the  `documentation <https://bids-specification--1128.org.readthedocs.build/en/1128/modality-specific-files/eye-tracking.html#sidecar-json-document-_eyetrackjson>`_ for more details.\n",
    "\n",
    ".. literalinclude:: _static/data/filename_eyetrack.json\n",
    "   :caption: **For exemple :**\n",
    "   :language: json"
   ]
  },
  {
   "cell_type": "raw",
   "id": "1b793176",
   "metadata": {
    "raw_mimetype": "text/html"
   },
   "source": [
    "<br/><br/>"
   ]
  },
  {
   "cell_type": "markdown",
   "id": "735dfa67",
   "metadata": {},
   "source": [
    "### filename_events.tsv"
   ]
  },
  {
   "cell_type": "raw",
   "id": "dbbc45e9",
   "metadata": {
    "raw_mimetype": "text/restructuredtext"
   },
   "source": [
    "The file *<filename>* ``_events.tsv`` describes the timing and other properties of events recorded during an experiment. |br|\n",
    "See the  `documentation <https://bids-specification--1128.org.readthedocs.build/en/1128/modality-specific-files/task-events.html#task-events>`_ for more details.\n",
    "\n",
    ".. literalinclude:: _static/data/filename_events.tsv\n",
    "   :caption: **For exemple :**\n",
    "   :language: text"
   ]
  },
  {
   "cell_type": "raw",
   "id": "4bcbc2af",
   "metadata": {
    "raw_mimetype": "text/html"
   },
   "source": [
    "<br/><br/>"
   ]
  },
  {
   "cell_type": "markdown",
   "id": "bbf39a19",
   "metadata": {},
   "source": [
    "### filename_events.json"
   ]
  },
  {
   "cell_type": "raw",
   "id": "2045eff8",
   "metadata": {
    "raw_mimetype": "text/restructuredtext"
   },
   "source": [
    "The *<filename>* ``_events.json`` file documents the columns present in the *<filename>* ``_events.tsv`` file. |br|\n",
    "See the  `documentation <https://bids-specification--1128.org.readthedocs.build/en/1128/modality-specific-files/task-events.html#task-events>`_ for more details.\n",
    "\n",
    ".. literalinclude:: _static/data/filename_events.json\n",
    "   :caption: **For exemple :**\n",
    "   :language: json"
   ]
  },
  {
   "cell_type": "markdown",
   "id": "6be28aaf",
   "metadata": {},
   "source": [
    "-------------------"
   ]
  }
 ],
 "metadata": {
  "celltoolbar": "Raw Cell Format",
  "kernelspec": {
   "display_name": "Python 3 (ipykernel)",
   "language": "python",
   "name": "python3"
  },
  "language_info": {
   "codemirror_mode": {
    "name": "ipython",
    "version": 3
   },
   "file_extension": ".py",
   "mimetype": "text/x-python",
   "name": "python",
   "nbconvert_exporter": "python",
   "pygments_lexer": "ipython3",
   "version": "3.10.6"
  }
 },
 "nbformat": 4,
 "nbformat_minor": 5
}
