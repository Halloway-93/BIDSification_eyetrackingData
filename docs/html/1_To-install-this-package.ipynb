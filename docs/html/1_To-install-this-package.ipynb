{
 "cells": [
  {
   "cell_type": "markdown",
   "id": "75ec89e6",
   "metadata": {},
   "source": [
    "# To install this package"
   ]
  },
  {
   "cell_type": "raw",
   "id": "ee371013",
   "metadata": {
    "raw_mimetype": "text/restructuredtext"
   },
   "source": [
    "please use the following command::\n",
    "\n",
    "    pip install git+https://github.com/chloepasturel/BIDSification_eyetrackingData.git"
   ]
  }
 ],
 "metadata": {
  "celltoolbar": "Raw Cell Format",
  "kernelspec": {
   "display_name": "Python 3 (ipykernel)",
   "language": "python",
   "name": "python3"
  },
  "language_info": {
   "codemirror_mode": {
    "name": "ipython",
    "version": 3
   },
   "file_extension": ".py",
   "mimetype": "text/x-python",
   "name": "python",
   "nbconvert_exporter": "python",
   "pygments_lexer": "ipython3",
   "version": "3.10.6"
  }
 },
 "nbformat": 4,
 "nbformat_minor": 5
}
