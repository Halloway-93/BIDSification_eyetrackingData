{
 "cells": [
  {
   "cell_type": "markdown",
   "metadata": {},
   "source": [
    "# DataFiles"
   ]
  },
  {
   "cell_type": "raw",
   "metadata": {
    "raw_mimetype": "text/restructuredtext"
   },
   "source": [
    "Files containing raw eye position data (in :ref:`.asc<DataFiles.asc>`, :ref:`.csv or .tsv<DataFiles.csv or DataFiles.tsv>` )"
   ]
  },
  {
   "cell_type": "markdown",
   "metadata": {},
   "source": [
    "## DataFiles.asc"
   ]
  },
  {
   "cell_type": "raw",
   "metadata": {
    "raw_mimetype": "text/restructuredtext"
   },
   "source": [
    "The ``DataFiles.asc`` files are the raw data files from the Eyelink tracking system converted to an ``asc`` file. "
   ]
  },
  {
   "cell_type": "markdown",
   "metadata": {},
   "source": [
    "## DataFiles.csv or DataFiles.tsv"
   ]
  },
  {
   "cell_type": "raw",
   "metadata": {
    "raw_mimetype": "text/restructuredtext"
   },
   "source": [
    "The ``DataFiles.tsv`` or ``DataFiles.csv`` files must contain the eye-tracking data. |br|\n",
    "They must be in the same form as the :ref:`filename_eyetrack.tsv.gz` file. \n",
    "\n",
    ".. |br| raw:: html\n",
    "\n",
    "  <br/>\n",
    "  \n",
    ".. warning::\n",
    "   | The data must be separated by a space\n",
    "  \n",
    ".. literalinclude:: _static/data/filename_eyetrack.tsv\n",
    "   :caption: **For exemple :**\n",
    "   :language: text"
   ]
  }
 ],
 "metadata": {
  "celltoolbar": "Raw Cell Format",
  "kernelspec": {
   "display_name": "Python 3 (ipykernel)",
   "language": "python",
   "name": "python3"
  },
  "language_info": {
   "codemirror_mode": {
    "name": "ipython",
    "version": 3
   },
   "file_extension": ".py",
   "mimetype": "text/x-python",
   "name": "python",
   "nbconvert_exporter": "python",
   "pygments_lexer": "ipython3",
   "version": "3.10.6"
  }
 },
 "nbformat": 4,
 "nbformat_minor": 4
}
