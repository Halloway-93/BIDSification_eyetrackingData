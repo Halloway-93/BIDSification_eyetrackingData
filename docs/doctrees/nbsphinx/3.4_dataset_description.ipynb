{
 "cells": [
  {
   "cell_type": "markdown",
   "metadata": {},
   "source": [
    "# dataset_description.json"
   ]
  },
  {
   "cell_type": "raw",
   "metadata": {
    "raw_mimetype": "text/restructuredtext"
   },
   "source": [
    "Create a **JSON** describing the dataset in the data directory to be BIDSified.\n",
    "\n",
    ".. literalinclude:: data/dataset_description.json\n",
    "   :caption: **For exemple :**\n",
    "   :language: json\n",
    "\n",
    "For more details, we recommend that you consult the `BIDS documentation <https://bids-specification--1128.org.readthedocs.build/en/1128/modality-agnostic-files.html#dataset_descriptionjson>`_."
   ]
  },
  {
   "cell_type": "markdown",
   "metadata": {},
   "source": [
    "## Automatic creation"
   ]
  },
  {
   "cell_type": "markdown",
   "metadata": {},
   "source": [
    "You have the possibility to create this file automatically with the function:"
   ]
  },
  {
   "cell_type": "raw",
   "metadata": {
    "raw_mimetype": "text/restructuredtext"
   },
   "source": [
    ".. autoclass:: BIDSification_eyetrackingData.StandardisationProcess\n",
    "   :noindex:\n",
    "   :members: create_dataset_description"
   ]
  },
  {
   "cell_type": "raw",
   "metadata": {
    "raw_mimetype": "text/html"
   },
   "source": [
    "<br><br>"
   ]
  },
  {
   "cell_type": "markdown",
   "metadata": {},
   "source": [
    "**exemple of code:**"
   ]
  },
  {
   "cell_type": "code",
   "execution_count": 1,
   "metadata": {},
   "outputs": [
    {
     "name": "stdout",
     "output_type": "stream",
     "text": [
      "The file ./data/dataset_description.json has just been created \n",
      "Before continuing, please complete it with the correct information \n"
     ]
    }
   ],
   "source": [
    "import BIDSification_eyetrackingData as BIDS\n",
    "\n",
    "path_oldData = './data' # Path of the data directory to BIDSified\n",
    "process = BIDS.StandardisationProcess(dirpath=path_oldData)\n",
    "\n",
    "#------------------------------------------------------------------------------\n",
    "# to apply the function:\n",
    "#------------------------------------------------------------------------------\n",
    "process.create_dataset_description()"
   ]
  },
  {
   "cell_type": "raw",
   "metadata": {
    "raw_mimetype": "text/html"
   },
   "source": [
    "<br>"
   ]
  },
  {
   "cell_type": "raw",
   "metadata": {
    "raw_mimetype": "text/restructuredtext"
   },
   "source": [
    ".. code-block:: python\n",
    "   :caption: **This new file will look like this:**\n",
    "   \n",
    "    {\n",
    "        #----------------------------------------------------------------------\n",
    "        # REQUIRED\n",
    "        #----------------------------------------------------------------------\n",
    "        'Name': null # Name of the dataset.\n",
    "                     # (string)\n",
    "\n",
    "        'BIDSVersion': \"1.8.1\" # The version of the BIDS\n",
    "                               # standard that was used.\n",
    "                               # (string)\n",
    "\n",
    "    }"
   ]
  },
  {
   "cell_type": "raw",
   "metadata": {
    "raw_mimetype": "text/html"
   },
   "source": [
    "<br>"
   ]
  },
  {
   "cell_type": "raw",
   "metadata": {
    "raw_mimetype": "text/restructuredtext"
   },
   "source": [
    ".. Warning::\n",
    "\n",
    "    **You must then open this file and complete it.**\n",
    "    \n",
    "    You MUST complete the following keys:\n",
    "\n",
    "        | -  **Name**"
   ]
  },
  {
   "cell_type": "raw",
   "metadata": {
    "raw_mimetype": "text/restructuredtext"
   },
   "source": [
    ".. code-block:: python\n",
    "   :caption: **For example:**\n",
    "   \n",
    "    {\n",
    "        'Name': 'SuperDossier',\n",
    "        'BIDSVersion': \"1.8.1\",\n",
    "        'Authors': [\"Name Autor 1\", \"Name Autor 2\"]\n",
    "\n",
    "    }\n"
   ]
  }
 ],
 "metadata": {
  "celltoolbar": "Raw Cell Format",
  "kernelspec": {
   "display_name": "Python 3 (ipykernel)",
   "language": "python",
   "name": "python3"
  },
  "language_info": {
   "codemirror_mode": {
    "name": "ipython",
    "version": 3
   },
   "file_extension": ".py",
   "mimetype": "text/x-python",
   "name": "python",
   "nbconvert_exporter": "python",
   "pygments_lexer": "ipython3",
   "version": "3.10.6"
  }
 },
 "nbformat": 4,
 "nbformat_minor": 4
}
